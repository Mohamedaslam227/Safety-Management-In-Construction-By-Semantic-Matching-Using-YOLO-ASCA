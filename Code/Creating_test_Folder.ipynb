{
 "cells": [
  {
   "cell_type": "code",
   "execution_count": 1,
   "metadata": {},
   "outputs": [],
   "source": [
    "import os\n",
    "import random\n",
    "import shutil\n"
   ]
  },
  {
   "cell_type": "code",
   "execution_count": 2,
   "metadata": {},
   "outputs": [],
   "source": [
    "\n",
    "def create_directory_structure(base_dir, sub_dirs):\n",
    "    \"\"\"Create necessary directories if they don't exist.\"\"\"\n",
    "    for sub_dir in sub_dirs:\n",
    "        os.makedirs(os.path.join(base_dir, sub_dir), exist_ok=True)\n"
   ]
  },
  {
   "cell_type": "code",
   "execution_count": 5,
   "metadata": {},
   "outputs": [],
   "source": [
    "def split_dataset(train_dir, test_dir, test_size=0.2):\n",
    "    \"\"\"\n",
    "    Splits the dataset from train directory to test directory.\n",
    "\n",
    "    Args:\n",
    "        train_dir (str): Path to the train directory containing 'images' and 'labels' subdirectories.\n",
    "        test_dir (str): Path to the test directory where 'images' and 'labels' subdirectories will be created.\n",
    "        test_size (float): Proportion of the dataset to include in the test split (default is 0.2).\n",
    "    \"\"\"\n",
    "    train_images_dir = os.path.join(train_dir, \"images\")\n",
    "    train_labels_dir = os.path.join(train_dir, \"labels\")\n",
    "    test_images_dir = os.path.join(test_dir, \"images\")\n",
    "    test_labels_dir = os.path.join(test_dir, \"labels\")\n",
    "    create_directory_structure(test_dir, [\"images\", \"labels\"])\n",
    "    image_files = os.listdir(train_images_dir)\n",
    "    random.shuffle(image_files)  \n",
    "    num_test_samples = int(len(image_files) * test_size)\n",
    "    test_image_files = image_files[:num_test_samples]\n",
    "\n",
    "    for image_file in test_image_files:\n",
    "        src_image_path = os.path.join(train_images_dir, image_file)\n",
    "        src_label_path = os.path.join(train_labels_dir, image_file.replace('.jpg', '.txt'))  \n",
    "        dest_image_path = os.path.join(test_images_dir, image_file)\n",
    "        dest_label_path = os.path.join(test_labels_dir, image_file.replace('.jpg', '.txt'))\n",
    "        if os.path.exists(src_image_path):\n",
    "            shutil.move(src_image_path, dest_image_path)\n",
    "        if os.path.exists(src_label_path):\n",
    "            shutil.move(src_label_path, dest_label_path)\n",
    "        if os.path.exists(src_image_path):\n",
    "            os.remove(src_image_path)\n",
    "        if os.path.exists(src_label_path):\n",
    "            os.remove(src_label_path)\n",
    "\n",
    "    print(f\"Moved and deleted {num_test_samples} images and labels from the train directory to the test directory.\")\n"
   ]
  },
  {
   "cell_type": "code",
   "execution_count": 6,
   "metadata": {},
   "outputs": [
    {
     "name": "stdout",
     "output_type": "stream",
     "text": [
      "Moved and deleted 18625 images and labels from the train directory to the test directory.\n"
     ]
    }
   ],
   "source": [
    "\n",
    "# Set the paths\n",
    "train_directory = r\"E:\\My Research Project\\CODE\\DATA\\COCO\\train\"\n",
    "test_directory = r\"E:\\My Research Project\\CODE\\DATA\\COCO\\test\"\n",
    "split_dataset(train_directory, test_directory, test_size=0.2)\n"
   ]
  },
  {
   "cell_type": "code",
   "execution_count": null,
   "metadata": {},
   "outputs": [],
   "source": []
  }
 ],
 "metadata": {
  "kernelspec": {
   "display_name": "AslamGPUPyTorch",
   "language": "python",
   "name": "python3"
  },
  "language_info": {
   "codemirror_mode": {
    "name": "ipython",
    "version": 3
   },
   "file_extension": ".py",
   "mimetype": "text/x-python",
   "name": "python",
   "nbconvert_exporter": "python",
   "pygments_lexer": "ipython3",
   "version": "3.10.14"
  }
 },
 "nbformat": 4,
 "nbformat_minor": 2
}
