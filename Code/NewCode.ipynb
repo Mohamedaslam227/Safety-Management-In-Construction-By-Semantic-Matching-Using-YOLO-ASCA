{
 "cells": [
  {
   "cell_type": "code",
   "execution_count": 1,
   "metadata": {},
   "outputs": [],
   "source": [
    "import os\n",
    "import torch\n",
    "import torchvision\n",
    "from torchvision.models.detection.faster_rcnn import FasterRCNN\n",
    "from torchvision.models.detection.rpn import AnchorGenerator\n",
    "from torchvision.models.resnet import resnet101\n",
    "from torch.utils.data import DataLoader, Dataset\n",
    "import cv2\n",
    "import torch.nn as nn\n",
    "from gensim.models import KeyedVectors\n",
    "from torchvision import transforms\n",
    "from torch.nn import functional as F\n"
   ]
  },
  {
   "cell_type": "code",
   "execution_count": 2,
   "metadata": {},
   "outputs": [
    {
     "name": "stdout",
     "output_type": "stream",
     "text": [
      "Model Running on cuda\n"
     ]
    }
   ],
   "source": [
    "\n",
    "# Paths\n",
    "DATASET_PATH = r\"E:\\My Research Project\\CODE\\DataCombined\"\n",
    "SAFETY_RULES_PATH = r\"E:\\My Research Project\\CODE\\Saftey Rules-OG.txt\"  # Safety rules file\n",
    "DEVICE = torch.device(\"cuda\" if torch.cuda.is_available() else \"cpu\")\n",
    "NUM_CLASSES = 99  # Adjust according to your dataset\n",
    "print(f\"Model Running on {DEVICE}\")\n"
   ]
  },
  {
   "cell_type": "code",
   "execution_count": 3,
   "metadata": {},
   "outputs": [],
   "source": [
    "\n",
    "# Custom Dataset with Bounding Box Check\n",
    "class CustomDataset(Dataset):\n",
    "    def __init__(self, images_path, labels_path, transform=None):\n",
    "        self.images_path = images_path\n",
    "        self.labels_path = labels_path\n",
    "        self.image_files = [f for f in os.listdir(images_path) if f.endswith(('.jpg', '.png'))]\n",
    "        self.label_files = [f for f in os.listdir(labels_path) if f.endswith('.txt')]\n",
    "        self.transform = transform if transform else transforms.ToTensor()\n",
    "\n",
    "    def __len__(self):\n",
    "        return len(self.image_files)\n",
    "\n",
    "    def __getitem__(self, idx):\n",
    "        img_path = os.path.join(self.images_path, self.image_files[idx])\n",
    "        label_path = os.path.join(self.labels_path, self.label_files[idx])\n",
    "        image = cv2.imread(img_path)\n",
    "        if image is None:\n",
    "            raise ValueError(f\"Failed to load image: {img_path}\")\n",
    "        image = cv2.cvtColor(image, cv2.COLOR_BGR2RGB)\n",
    "        image = self.transform(image)\n",
    "        with open(label_path, \"r\") as f:\n",
    "            labels = [list(map(float, line.strip().split())) for line in f]\n",
    "\n",
    "        boxes = []\n",
    "        classes = []\n",
    "        for label in labels:\n",
    "            class_id, x_center, y_center, width, height = label\n",
    "            if width > 0 and height > 0: \n",
    "                xmin = x_center - width / 2\n",
    "                ymin = y_center - height / 2\n",
    "                xmax = x_center + width / 2\n",
    "                ymax = y_center + height / 2\n",
    "                boxes.append([xmin, ymin, xmax, ymax])\n",
    "                classes.append(int(class_id))\n",
    "        if len(boxes) == 0:  \n",
    "            return self.__getitem__((idx + 1) % len(self))\n",
    "\n",
    "        boxes = torch.tensor(boxes, dtype=torch.float32)\n",
    "        classes = torch.tensor(classes, dtype=torch.int64)\n",
    "        target = {\"boxes\": boxes, \"labels\": classes}\n",
    "        return image, target\n"
   ]
  },
  {
   "cell_type": "code",
   "execution_count": 4,
   "metadata": {},
   "outputs": [],
   "source": [
    "def get_data_loader(dataset_path, mode, batch_size=1):\n",
    "    images_path = os.path.join(dataset_path, mode, \"images\")\n",
    "    labels_path = os.path.join(dataset_path, mode, \"labels\")\n",
    "    dataset = CustomDataset(images_path, labels_path, transform=transforms.ToTensor())\n",
    "    return DataLoader(dataset, batch_size=batch_size, shuffle=True, collate_fn=lambda x: tuple(zip(*x)))\n"
   ]
  },
  {
   "cell_type": "code",
   "execution_count": 5,
   "metadata": {},
   "outputs": [],
   "source": [
    "\n",
    "# Text Embedding with Bi-GRU\n",
    "class TextEmbedding(nn.Module):\n",
    "    def __init__(self, glove_file=r\"E:\\My Research Project\\CODE\\glove.6B.300d.txt\", embedding_dim=300, hidden_dim=128):\n",
    "        super(TextEmbedding, self).__init__()\n",
    "        print(f\"Loading GloVe embeddings from {glove_file}...\")\n",
    "        self.glove_model = KeyedVectors.load_word2vec_format(glove_file, binary=False, no_header=True)\n",
    "        self.embedding_dim = embedding_dim\n",
    "        self.hidden_dim = hidden_dim\n",
    "        self.gru = nn.GRU(input_size=embedding_dim, hidden_size=hidden_dim, batch_first=True, bidirectional=True)\n",
    "\n",
    "    def forward(self, text_input):\n",
    "        embeddings = [\n",
    "            torch.tensor([self.glove_model[word] for word in sentence.split() if word in self.glove_model], dtype=torch.float32)\n",
    "            for sentence in text_input\n",
    "        ]\n",
    "        padded_embeddings = nn.utils.rnn.pad_sequence(embeddings, batch_first=True)\n",
    "        packed_embeddings = nn.utils.rnn.pack_padded_sequence(padded_embeddings, [len(e) for e in embeddings], batch_first=True, enforce_sorted=False)\n",
    "        _, hidden = self.gru(packed_embeddings)\n",
    "        return torch.cat((hidden[0], hidden[1]), dim=-1)  # Concatenate Bi-GRU outputs\n"
   ]
  },
  {
   "cell_type": "code",
   "execution_count": 6,
   "metadata": {},
   "outputs": [],
   "source": [
    "\n",
    "# ResNet-101 Backbone with RPN\n",
    "def get_model(num_classes):\n",
    "    backbone = resnet101(pretrained=False)\n",
    "    backbone = nn.Sequential(*list(backbone.children())[:-2])  \n",
    "    backbone.out_channels = 2048  \n",
    "\n",
    "    anchor_generator = AnchorGenerator(\n",
    "        sizes=((32, 64, 128, 256, 512),),\n",
    "        aspect_ratios=((0.5, 1.0, 2.0),) * 5\n",
    "    )\n",
    "\n",
    "    roi_pooler = torchvision.ops.MultiScaleRoIAlign(\n",
    "        featmap_names=['0'], output_size=7, sampling_ratio=2\n",
    "    )\n",
    "\n",
    "    model = FasterRCNN(\n",
    "        backbone,\n",
    "        num_classes=num_classes,\n",
    "        rpn_anchor_generator=anchor_generator,\n",
    "        box_roi_pool=roi_pooler\n",
    "    )\n",
    "    return model\n"
   ]
  },
  {
   "cell_type": "code",
   "execution_count": 7,
   "metadata": {},
   "outputs": [],
   "source": [
    "\n",
    "# Triplet Loss\n",
    "class TripletLoss(nn.Module):\n",
    "    def __init__(self, margin=1.0):\n",
    "        super(TripletLoss, self).__init__()\n",
    "        self.margin = margin\n",
    "\n",
    "    def forward(self, anchor, positive, negative):\n",
    "        pos_dist = F.pairwise_distance(anchor, positive, p=2)\n",
    "        neg_dist = F.pairwise_distance(anchor, negative, p=2)\n",
    "        loss = torch.clamp(pos_dist - neg_dist + self.margin, min=0.0)\n",
    "        return loss.mean()\n"
   ]
  },
  {
   "cell_type": "code",
   "execution_count": 8,
   "metadata": {},
   "outputs": [],
   "source": [
    "\n",
    "# Stacked Cross Attention Mechanism\n",
    "class CrossAttention(nn.Module):\n",
    "    def __init__(self, visual_dim, text_dim):\n",
    "        super(CrossAttention, self).__init__()\n",
    "        self.query_proj = nn.Linear(visual_dim, text_dim)\n",
    "        self.key_proj = nn.Linear(text_dim, text_dim)\n",
    "        self.value_proj = nn.Linear(text_dim, text_dim)\n",
    "        self.softmax = nn.Softmax(dim=-1)\n",
    "\n",
    "    def forward(self, visual_features, text_features):\n",
    "        queries = self.query_proj(visual_features)\n",
    "        keys = self.key_proj(text_features)\n",
    "        values = self.value_proj(text_features)\n",
    "        attention_weights = self.softmax(torch.matmul(queries, keys.transpose(-1, -2)))\n",
    "        attended_features = torch.matmul(attention_weights, values)\n",
    "        return attended_features\n"
   ]
  },
  {
   "cell_type": "code",
   "execution_count": 9,
   "metadata": {},
   "outputs": [],
   "source": [
    "\n",
    "# Combined Model\n",
    "class CombinedModel(nn.Module):\n",
    "    def __init__(self, num_classes):\n",
    "        super(CombinedModel, self).__init__()\n",
    "        self.frcnn = get_model(num_classes)\n",
    "        self.text_embedding = TextEmbedding()\n",
    "        self.cross_attention = CrossAttention(2048, 256)\n",
    "        self.fc = nn.Linear(2048 + 256, num_classes)\n",
    "\n",
    "    def forward(self, images, targets=None, safety_text=None, triplet_inputs=None):\n",
    "        if self.training:\n",
    "            losses = self.frcnn(images, targets)\n",
    "            if triplet_inputs is not None:\n",
    "                anchor, positive, negative = triplet_inputs\n",
    "                triplet_loss_fn = TripletLoss()\n",
    "                triplet_loss = triplet_loss_fn(anchor, positive, negative)\n",
    "                losses[\"triplet_loss\"] = triplet_loss\n",
    "            return losses\n",
    "        else:\n",
    "            detections = self.frcnn(images)\n",
    "            if safety_text is not None:\n",
    "                text_features = self.text_embedding(safety_text)\n",
    "                visual_features = detections[\"features\"]  # Pre-extracted visual features\n",
    "                attended_features = self.cross_attention(visual_features, text_features)\n",
    "                combined_features = torch.cat((visual_features, attended_features), dim=1)\n",
    "                return self.fc(combined_features)\n",
    "            return detections\n"
   ]
  },
  {
   "cell_type": "code",
   "execution_count": 10,
   "metadata": {},
   "outputs": [],
   "source": [
    "def evaluate_model(model, data_loader):\n",
    "    model.eval()\n",
    "    with torch.no_grad():\n",
    "        total_loss = 0\n",
    "        for images, targets in data_loader:\n",
    "            images = [img.to(DEVICE) for img in images]\n",
    "            targets = [{k: v.to(DEVICE) for k, v in t.items()} for t in targets]\n",
    "            \n",
    "            # Perform validation forward pass\n",
    "            outputs = model(images, targets=targets)\n",
    "            loss = sum(outputs.values())\n",
    "            total_loss += loss.item()\n",
    "        \n",
    "        avg_loss = total_loss / len(data_loader)\n",
    "        print(f\"Validation Loss: {avg_loss:.4f}\")"
   ]
  },
  {
   "cell_type": "code",
   "execution_count": 14,
   "metadata": {},
   "outputs": [],
   "source": [
    "\n",
    "# Training and Testing with Checkpointing\n",
    "def train_model():\n",
    "    train_loader = get_data_loader(DATASET_PATH, \"train\")\n",
    "    val_loader = get_data_loader(DATASET_PATH, \"val\")\n",
    "    model = CombinedModel(num_classes=NUM_CLASSES).to(DEVICE)\n",
    "    optimizer = torch.optim.Adam(model.parameters(), lr=0.0001)\n",
    "    checkpoint_path = r\"E:\\My Research Project\\CODE\\model_checkpoint.pth\"\n",
    "    start_epoch = 0\n",
    "\n",
    "    # Load checkpoint if exists\n",
    " \n",
    "\n",
    "    for epoch in range(start_epoch, 3):\n",
    "        model.train()\n",
    "        print(f\"Epoch {epoch+1} is running\")\n",
    "        for images, targets in train_loader:\n",
    "            images = [img.to(DEVICE) for img in images]\n",
    "            targets = [{k: v.to(DEVICE) for k, v in t.items()} for t in targets]\n",
    "            triplet_inputs = None  # Add your triplet data here if available\n",
    "\n",
    "            optimizer.zero_grad()\n",
    "            losses = model(images, targets, triplet_inputs=triplet_inputs)\n",
    "            loss = sum(losses.values())\n",
    "            loss.backward()\n",
    "            optimizer.step()\n",
    "                    # Save checkpoint\n",
    "        torch.save({\n",
    "            \"model_state\": model.state_dict(),\n",
    "            \"optimizer_state\": optimizer.state_dict(),\n",
    "            \"epoch\": epoch\n",
    "        }, checkpoint_path)\n",
    "        print(f\"Checkpoint saved at epoch {epoch + 1}\")\n",
    "        print(f\"Epoch {epoch + 1}, Loss: {loss.item()}\")\n",
    "        evaluate_model(model, val_loader)\n",
    "\n"
   ]
  },
  {
   "cell_type": "code",
   "execution_count": 15,
   "metadata": {},
   "outputs": [],
   "source": [
    "def test_model(model, data_loader):\n",
    "    model.eval()\n",
    "    predictions = []\n",
    "    with torch.no_grad():\n",
    "        for images, _ in data_loader:\n",
    "            images = [img.to(DEVICE) for img in images]\n",
    "            outputs = model(images)\n",
    "            predictions.append(outputs)\n",
    "    return predictions"
   ]
  },
  {
   "cell_type": "code",
   "execution_count": 16,
   "metadata": {},
   "outputs": [
    {
     "name": "stdout",
     "output_type": "stream",
     "text": [
      "Loading GloVe embeddings from E:\\My Research Project\\CODE\\glove.6B.300d.txt...\n",
      "Epoch 1 is running\n"
     ]
    },
    {
     "ename": "RuntimeError",
     "evalue": "CUDA error: out of memory\nCUDA kernel errors might be asynchronously reported at some other API call, so the stacktrace below might be incorrect.\nFor debugging consider passing CUDA_LAUNCH_BLOCKING=1\nCompile with `TORCH_USE_CUDA_DSA` to enable device-side assertions.\n",
     "output_type": "error",
     "traceback": [
      "\u001b[1;31m---------------------------------------------------------------------------\u001b[0m",
      "\u001b[1;31mRuntimeError\u001b[0m                              Traceback (most recent call last)",
      "Cell \u001b[1;32mIn[16], line 3\u001b[0m\n\u001b[0;32m      1\u001b[0m \u001b[38;5;28;01mif\u001b[39;00m \u001b[38;5;18m__name__\u001b[39m \u001b[38;5;241m==\u001b[39m \u001b[38;5;124m\"\u001b[39m\u001b[38;5;124m__main__\u001b[39m\u001b[38;5;124m\"\u001b[39m:\n\u001b[0;32m      2\u001b[0m     \u001b[38;5;66;03m# Train and validate the model\u001b[39;00m\n\u001b[1;32m----> 3\u001b[0m     \u001b[43mtrain_model\u001b[49m\u001b[43m(\u001b[49m\u001b[43m)\u001b[49m\n",
      "Cell \u001b[1;32mIn[14], line 24\u001b[0m, in \u001b[0;36mtrain_model\u001b[1;34m()\u001b[0m\n\u001b[0;32m     22\u001b[0m losses \u001b[38;5;241m=\u001b[39m model(images, targets, triplet_inputs\u001b[38;5;241m=\u001b[39mtriplet_inputs)\n\u001b[0;32m     23\u001b[0m loss \u001b[38;5;241m=\u001b[39m \u001b[38;5;28msum\u001b[39m(losses\u001b[38;5;241m.\u001b[39mvalues())\n\u001b[1;32m---> 24\u001b[0m \u001b[43mloss\u001b[49m\u001b[38;5;241;43m.\u001b[39;49m\u001b[43mbackward\u001b[49m\u001b[43m(\u001b[49m\u001b[43m)\u001b[49m\n\u001b[0;32m     25\u001b[0m optimizer\u001b[38;5;241m.\u001b[39mstep()\n\u001b[0;32m     26\u001b[0m         \u001b[38;5;66;03m# Save checkpoint\u001b[39;00m\n",
      "File \u001b[1;32mc:\\Users\\ASUS\\anaconda3\\envs\\NewGPUTorch\\Lib\\site-packages\\torch\\_tensor.py:581\u001b[0m, in \u001b[0;36mTensor.backward\u001b[1;34m(self, gradient, retain_graph, create_graph, inputs)\u001b[0m\n\u001b[0;32m    571\u001b[0m \u001b[38;5;28;01mif\u001b[39;00m has_torch_function_unary(\u001b[38;5;28mself\u001b[39m):\n\u001b[0;32m    572\u001b[0m     \u001b[38;5;28;01mreturn\u001b[39;00m handle_torch_function(\n\u001b[0;32m    573\u001b[0m         Tensor\u001b[38;5;241m.\u001b[39mbackward,\n\u001b[0;32m    574\u001b[0m         (\u001b[38;5;28mself\u001b[39m,),\n\u001b[1;32m   (...)\u001b[0m\n\u001b[0;32m    579\u001b[0m         inputs\u001b[38;5;241m=\u001b[39minputs,\n\u001b[0;32m    580\u001b[0m     )\n\u001b[1;32m--> 581\u001b[0m \u001b[43mtorch\u001b[49m\u001b[38;5;241;43m.\u001b[39;49m\u001b[43mautograd\u001b[49m\u001b[38;5;241;43m.\u001b[39;49m\u001b[43mbackward\u001b[49m\u001b[43m(\u001b[49m\n\u001b[0;32m    582\u001b[0m \u001b[43m    \u001b[49m\u001b[38;5;28;43mself\u001b[39;49m\u001b[43m,\u001b[49m\u001b[43m \u001b[49m\u001b[43mgradient\u001b[49m\u001b[43m,\u001b[49m\u001b[43m \u001b[49m\u001b[43mretain_graph\u001b[49m\u001b[43m,\u001b[49m\u001b[43m \u001b[49m\u001b[43mcreate_graph\u001b[49m\u001b[43m,\u001b[49m\u001b[43m \u001b[49m\u001b[43minputs\u001b[49m\u001b[38;5;241;43m=\u001b[39;49m\u001b[43minputs\u001b[49m\n\u001b[0;32m    583\u001b[0m \u001b[43m\u001b[49m\u001b[43m)\u001b[49m\n",
      "File \u001b[1;32mc:\\Users\\ASUS\\anaconda3\\envs\\NewGPUTorch\\Lib\\site-packages\\torch\\autograd\\__init__.py:347\u001b[0m, in \u001b[0;36mbackward\u001b[1;34m(tensors, grad_tensors, retain_graph, create_graph, grad_variables, inputs)\u001b[0m\n\u001b[0;32m    342\u001b[0m     retain_graph \u001b[38;5;241m=\u001b[39m create_graph\n\u001b[0;32m    344\u001b[0m \u001b[38;5;66;03m# The reason we repeat the same comment below is that\u001b[39;00m\n\u001b[0;32m    345\u001b[0m \u001b[38;5;66;03m# some Python versions print out the first line of a multi-line function\u001b[39;00m\n\u001b[0;32m    346\u001b[0m \u001b[38;5;66;03m# calls in the traceback and some print out the last line\u001b[39;00m\n\u001b[1;32m--> 347\u001b[0m \u001b[43m_engine_run_backward\u001b[49m\u001b[43m(\u001b[49m\n\u001b[0;32m    348\u001b[0m \u001b[43m    \u001b[49m\u001b[43mtensors\u001b[49m\u001b[43m,\u001b[49m\n\u001b[0;32m    349\u001b[0m \u001b[43m    \u001b[49m\u001b[43mgrad_tensors_\u001b[49m\u001b[43m,\u001b[49m\n\u001b[0;32m    350\u001b[0m \u001b[43m    \u001b[49m\u001b[43mretain_graph\u001b[49m\u001b[43m,\u001b[49m\n\u001b[0;32m    351\u001b[0m \u001b[43m    \u001b[49m\u001b[43mcreate_graph\u001b[49m\u001b[43m,\u001b[49m\n\u001b[0;32m    352\u001b[0m \u001b[43m    \u001b[49m\u001b[43minputs\u001b[49m\u001b[43m,\u001b[49m\n\u001b[0;32m    353\u001b[0m \u001b[43m    \u001b[49m\u001b[43mallow_unreachable\u001b[49m\u001b[38;5;241;43m=\u001b[39;49m\u001b[38;5;28;43;01mTrue\u001b[39;49;00m\u001b[43m,\u001b[49m\n\u001b[0;32m    354\u001b[0m \u001b[43m    \u001b[49m\u001b[43maccumulate_grad\u001b[49m\u001b[38;5;241;43m=\u001b[39;49m\u001b[38;5;28;43;01mTrue\u001b[39;49;00m\u001b[43m,\u001b[49m\n\u001b[0;32m    355\u001b[0m \u001b[43m\u001b[49m\u001b[43m)\u001b[49m\n",
      "File \u001b[1;32mc:\\Users\\ASUS\\anaconda3\\envs\\NewGPUTorch\\Lib\\site-packages\\torch\\autograd\\graph.py:825\u001b[0m, in \u001b[0;36m_engine_run_backward\u001b[1;34m(t_outputs, *args, **kwargs)\u001b[0m\n\u001b[0;32m    823\u001b[0m     unregister_hooks \u001b[38;5;241m=\u001b[39m _register_logging_hooks_on_whole_graph(t_outputs)\n\u001b[0;32m    824\u001b[0m \u001b[38;5;28;01mtry\u001b[39;00m:\n\u001b[1;32m--> 825\u001b[0m     \u001b[38;5;28;01mreturn\u001b[39;00m \u001b[43mVariable\u001b[49m\u001b[38;5;241;43m.\u001b[39;49m\u001b[43m_execution_engine\u001b[49m\u001b[38;5;241;43m.\u001b[39;49m\u001b[43mrun_backward\u001b[49m\u001b[43m(\u001b[49m\u001b[43m  \u001b[49m\u001b[38;5;66;43;03m# Calls into the C++ engine to run the backward pass\u001b[39;49;00m\n\u001b[0;32m    826\u001b[0m \u001b[43m        \u001b[49m\u001b[43mt_outputs\u001b[49m\u001b[43m,\u001b[49m\u001b[43m \u001b[49m\u001b[38;5;241;43m*\u001b[39;49m\u001b[43margs\u001b[49m\u001b[43m,\u001b[49m\u001b[43m \u001b[49m\u001b[38;5;241;43m*\u001b[39;49m\u001b[38;5;241;43m*\u001b[39;49m\u001b[43mkwargs\u001b[49m\n\u001b[0;32m    827\u001b[0m \u001b[43m    \u001b[49m\u001b[43m)\u001b[49m  \u001b[38;5;66;03m# Calls into the C++ engine to run the backward pass\u001b[39;00m\n\u001b[0;32m    828\u001b[0m \u001b[38;5;28;01mfinally\u001b[39;00m:\n\u001b[0;32m    829\u001b[0m     \u001b[38;5;28;01mif\u001b[39;00m attach_logging_hooks:\n",
      "\u001b[1;31mRuntimeError\u001b[0m: CUDA error: out of memory\nCUDA kernel errors might be asynchronously reported at some other API call, so the stacktrace below might be incorrect.\nFor debugging consider passing CUDA_LAUNCH_BLOCKING=1\nCompile with `TORCH_USE_CUDA_DSA` to enable device-side assertions.\n"
     ]
    }
   ],
   "source": [
    "\n",
    "\n",
    "\n",
    "if __name__ == \"__main__\":\n",
    "    # Train and validate the model\n",
    "    train_model()\n",
    "\n",
    "   \n"
   ]
  },
  {
   "cell_type": "code",
   "execution_count": null,
   "metadata": {},
   "outputs": [],
   "source": []
  }
 ],
 "metadata": {
  "kernelspec": {
   "display_name": "NewGPUTorch",
   "language": "python",
   "name": "python3"
  },
  "language_info": {
   "codemirror_mode": {
    "name": "ipython",
    "version": 3
   },
   "file_extension": ".py",
   "mimetype": "text/x-python",
   "name": "python",
   "nbconvert_exporter": "python",
   "pygments_lexer": "ipython3",
   "version": "3.11.10"
  }
 },
 "nbformat": 4,
 "nbformat_minor": 2
}
