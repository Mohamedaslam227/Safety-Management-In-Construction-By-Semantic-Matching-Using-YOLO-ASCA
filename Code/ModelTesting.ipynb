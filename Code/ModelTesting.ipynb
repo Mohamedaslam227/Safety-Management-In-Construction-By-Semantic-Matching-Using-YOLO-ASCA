{
 "cells": [
  {
   "cell_type": "code",
   "execution_count": 25,
   "metadata": {},
   "outputs": [],
   "source": [
    "import os\n",
    "import torch\n",
    "import torchvision\n",
    "from torchvision.models.detection.faster_rcnn import FasterRCNN\n",
    "from torchvision.models.detection.rpn import AnchorGenerator\n",
    "from torchvision.models.resnet import resnet101\n",
    "from torch.utils.data import DataLoader, Dataset\n",
    "import cv2\n",
    "import torch.nn as nn\n",
    "from gensim.models import KeyedVectors\n",
    "from torchvision import transforms\n",
    "from torch.nn import functional as F\n",
    "from sklearn.metrics import precision_score, recall_score, f1_score, accuracy_score\n",
    "import matplotlib.pyplot as plt\n",
    "import matplotlib.patches as patches\n",
    "import math\n"
   ]
  },
  {
   "cell_type": "code",
   "execution_count": 26,
   "metadata": {},
   "outputs": [
    {
     "name": "stdout",
     "output_type": "stream",
     "text": [
      "Model Running on cuda\n"
     ]
    }
   ],
   "source": [
    "\n",
    "# Paths\n",
    "DATASET_PATH = r\"E:\\My Research Project\\CODE\\DATA\\Combined_Dataset\"\n",
    "SAFETY_RULES_PATH = r\"E:\\My Research Project\\CODE\\Saftey Rules-OG.txt\"  # Safety rules file\n",
    "DEVICE = torch.device(\"cuda\" if torch.cuda.is_available() else \"cpu\")\n",
    "NUM_CLASSES = 19  # Adjust according to your dataset\n",
    "print(f\"Model Running on {DEVICE}\")\n"
   ]
  },
  {
   "cell_type": "code",
   "execution_count": 27,
   "metadata": {},
   "outputs": [],
   "source": [
    "class CustomDataset(Dataset):\n",
    "    def __init__(self, images_path, labels_path, transform=None):\n",
    "        self.images_path = images_path\n",
    "        self.labels_path = labels_path\n",
    "        self.image_files = [f for f in os.listdir(images_path) if f.endswith(('.jpg', '.png'))]\n",
    "        self.label_files = [f for f in os.listdir(labels_path) if f.endswith('.txt')]\n",
    "        self.transform = transform if transform else transforms.ToTensor()\n",
    "\n",
    "    def __len__(self):\n",
    "        return len(self.image_files)\n",
    "\n",
    "    def __getitem__(self, idx):\n",
    "        img_path = os.path.join(self.images_path, self.image_files[idx])\n",
    "        label_path = os.path.join(self.labels_path, self.label_files[idx])\n",
    "        image = cv2.imread(img_path)\n",
    "        if image is None:\n",
    "            raise ValueError(f\"Failed to load image: {img_path}\")\n",
    "        image = cv2.cvtColor(image, cv2.COLOR_BGR2RGB)\n",
    "        image = self.transform(image)\n",
    "        with open(label_path, \"r\") as f:\n",
    "            labels = [list(map(float, line.strip().split())) for line in f]\n",
    "\n",
    "        boxes = []\n",
    "        classes = []\n",
    "        for label in labels:\n",
    "            class_id, x_center, y_center, width, height = label\n",
    "            if width > 0 and height > 0:  # Check for valid bounding boxes\n",
    "                xmin = x_center - width / 2\n",
    "                ymin = y_center - height / 2\n",
    "                xmax = x_center + width / 2\n",
    "                ymax = y_center + height / 2\n",
    "                boxes.append([xmin, ymin, xmax, ymax])\n",
    "                classes.append(int(class_id))\n",
    "        if len(boxes) == 0:  # Handle cases with no valid bounding boxes\n",
    "            return self.__getitem__((idx + 1) % len(self))\n",
    "\n",
    "        boxes = torch.tensor(boxes, dtype=torch.float32)\n",
    "        classes = torch.tensor(classes, dtype=torch.int64)\n",
    "        target = {\"boxes\": boxes, \"labels\": classes}\n",
    "        return image, target"
   ]
  },
  {
   "cell_type": "code",
   "execution_count": 28,
   "metadata": {},
   "outputs": [],
   "source": [
    "def get_data_loader(dataset_path, mode, batch_size=2):\n",
    "    images_path = os.path.join(dataset_path, mode, \"images\")\n",
    "    labels_path = os.path.join(dataset_path, mode, \"labels\")\n",
    "    dataset = CustomDataset(images_path, labels_path, transform=transforms.ToTensor())\n",
    "    return DataLoader(dataset, batch_size=batch_size, shuffle=True, collate_fn=lambda x: tuple(zip(*x)))"
   ]
  },
  {
   "cell_type": "code",
   "execution_count": 29,
   "metadata": {},
   "outputs": [],
   "source": [
    "def get_model(num_classes):\n",
    "    backbone = resnet101(pretrained=False)\n",
    "    backbone = nn.Sequential(*list(backbone.children())[:-2])  # Remove fully connected layers\n",
    "    backbone.out_channels = 2048  # Output channels of ResNet-101\n",
    "\n",
    "    anchor_generator = AnchorGenerator(\n",
    "        sizes=((32, 64, 128, 256, 512),),\n",
    "        aspect_ratios=((0.5, 1.0, 2.0),) * 5\n",
    "    )\n",
    "\n",
    "    roi_pooler = torchvision.ops.MultiScaleRoIAlign(\n",
    "        featmap_names=['0'], output_size=7, sampling_ratio=2\n",
    "    )\n",
    "\n",
    "    model = FasterRCNN(\n",
    "        backbone,\n",
    "        num_classes=num_classes,\n",
    "        rpn_anchor_generator=anchor_generator,\n",
    "        box_roi_pool=roi_pooler\n",
    "    )\n",
    "    return model"
   ]
  },
  {
   "cell_type": "code",
   "execution_count": 30,
   "metadata": {},
   "outputs": [],
   "source": [
    "# Text Embedding with GloVe\n",
    "class TextEmbedding(nn.Module):\n",
    "    def __init__(self, glove_file=r\"E:\\My Research Project\\CODE\\glove.6B.300d.txt\", embedding_dim=300):\n",
    "        super(TextEmbedding, self).__init__()\n",
    "        print(f\"Loading GloVe embeddings from {glove_file}...\")\n",
    "        self.glove_model = KeyedVectors.load_word2vec_format(glove_file, binary=False, no_header=True)\n",
    "        self.embedding_dim = embedding_dim\n",
    "        self.fc = nn.Linear(embedding_dim, 128)\n",
    "\n",
    "    def forward(self, text_input):\n",
    "        embeddings = [self.glove_model[word] for word in text_input.split() if word in self.glove_model]\n",
    "        embeddings = torch.tensor(embeddings, dtype=torch.float32)\n",
    "        embeddings = embeddings.mean(dim=0)  # Average embeddings for input text\n",
    "        return self.fc(embeddings.unsqueeze(0))"
   ]
  },
  {
   "cell_type": "code",
   "execution_count": 31,
   "metadata": {},
   "outputs": [],
   "source": [
    "class CombinedModel(nn.Module):\n",
    "    def __init__(self, num_classes):\n",
    "        super(CombinedModel, self).__init__()\n",
    "        self.frcnn = get_model(num_classes)\n",
    "        self.text_embedding = TextEmbedding()\n",
    "        self.concat_fc = nn.Linear(2048 + 128, num_classes)\n",
    "\n",
    "    def forward(self, images, targets=None, safety_text=None):\n",
    "        if self.training:\n",
    "            losses = self.frcnn(images, targets)\n",
    "            return losses\n",
    "        else:\n",
    "            detections = self.frcnn(images)\n",
    "            if safety_text is not None:\n",
    "                text_features = self.text_embedding(safety_text)\n",
    "                combined_features = torch.cat((detections[\"features\"], text_features), dim=1)\n",
    "                return self.concat_fc(combined_features)\n",
    "            return detections"
   ]
  },
  {
   "cell_type": "code",
   "execution_count": 32,
   "metadata": {},
   "outputs": [],
   "source": [
    "\n",
    "# Load Model from Checkpoint\n",
    "def load_model_from_checkpoint(checkpoint_path, num_classes):\n",
    "    model = CombinedModel(num_classes=num_classes).to(DEVICE)\n",
    "    checkpoint = torch.load(checkpoint_path)\n",
    "    model.load_state_dict(checkpoint[\"model_state\"])\n",
    "    print(\"Model loaded successfully from checkpoint.\")\n",
    "    model.eval()\n",
    "    return model\n"
   ]
  },
  {
   "cell_type": "code",
   "execution_count": 33,
   "metadata": {},
   "outputs": [],
   "source": [
    "def test_model(model, data_loader, max_images=50):\n",
    "    \"\"\"\n",
    "    Test the model and collect predictions and targets.\n",
    "    \"\"\"\n",
    "    model.eval()\n",
    "    predictions = []\n",
    "    all_targets = []\n",
    "    all_preds = []\n",
    "\n",
    "    with torch.no_grad():\n",
    "        for idx, (images, targets) in enumerate(data_loader):\n",
    "            if idx >= max_images:  # Limit to a maximum number of images\n",
    "                break\n",
    "\n",
    "            images = [img.to(DEVICE) for img in images]\n",
    "            outputs = model(images)\n",
    "\n",
    "            for i, output in enumerate(outputs):\n",
    "                pred_boxes = output.get(\"boxes\", torch.empty(0)).cpu().numpy()\n",
    "                pred_labels = output.get(\"labels\", torch.empty(0)).cpu().numpy()\n",
    "                true_boxes = targets[i][\"boxes\"].cpu().numpy()\n",
    "                true_labels = targets[i][\"labels\"].cpu().numpy()\n",
    "\n",
    "                # Align predictions and targets\n",
    "                pred_labels = pred_labels[:len(true_labels)]  # Truncate predictions to match targets\n",
    "                all_targets.extend(true_labels.tolist())\n",
    "                all_preds.extend(pred_labels.tolist())\n",
    "\n",
    "                # Append for visualization\n",
    "                if len(predictions) < max_images:\n",
    "                    predictions.append((images[i].cpu(), pred_boxes, pred_labels, true_boxes, true_labels))\n",
    "\n",
    "    return predictions, all_targets, all_preds\n"
   ]
  },
  {
   "cell_type": "code",
   "execution_count": 67,
   "metadata": {},
   "outputs": [],
   "source": [
    "import cv2\n",
    "import os\n",
    "import numpy as np\n",
    "\n",
    "def visualize_predictions_with_opencv(predictions, label_names, save_dir=\"output_images\"):\n",
    "    \"\"\"\n",
    "    Visualize and save predictions using OpenCV for better alignment.\n",
    "    \"\"\"\n",
    "    if not os.path.exists(save_dir):\n",
    "        os.makedirs(save_dir)\n",
    "\n",
    "    for idx, (image, pred_boxes, pred_labels, true_boxes, true_labels) in enumerate(predictions):\n",
    "        # Convert the image tensor to a NumPy array\n",
    "        img_np = image.permute(1, 2, 0).cpu().numpy()\n",
    "        img_np = (img_np * 255).astype(np.uint8)  # Scale to 0-255\n",
    "        img_np = cv2.cvtColor(img_np, cv2.COLOR_RGB2BGR)  # Convert to BGR for OpenCV\n",
    "\n",
    "        img_height, img_width, _ = img_np.shape\n",
    "\n",
    "        # Draw true bounding boxes (Green)\n",
    "        for box, label in zip(true_boxes, true_labels):\n",
    "            x_center, y_center, width, height = box\n",
    "            xmin = int((x_center - width / 2) * img_width)\n",
    "            ymin = int((y_center - height / 2) * img_height)\n",
    "            xmax = int((x_center + width / 2) * img_width)\n",
    "            ymax = int((y_center + height / 2) * img_height)\n",
    "            label_name = label_names[label] if label < len(label_names) else \"Unknown\"\n",
    "            cv2.rectangle(img_np, (xmin, ymin), (xmax, ymax), (0, 255, 0), 2)  # Green box\n",
    "            cv2.putText(img_np, f\"True: {label_name}\", (xmin, ymin - 10), cv2.FONT_HERSHEY_SIMPLEX, 0.6, (0, 255, 0), 2)\n",
    "\n",
    "        # Draw predicted bounding boxes (Red)\n",
    "        for box, label in zip(pred_boxes, pred_labels):\n",
    "            x_center, y_center, width, height = box\n",
    "            xmin = int((x_center - width / 2) * img_width)\n",
    "            ymin = int((y_center - height / 2) * img_height)\n",
    "            xmax = int((x_center + width / 2) * img_width)\n",
    "            ymax = int((y_center + height / 2) * img_height)\n",
    "            label_name = label_names[label] if label < len(label_names) else \"Unknown\"\n",
    "            cv2.rectangle(img_np, (xmin, ymin), (xmax, ymax), (0, 0, 255), 2)  # Red box\n",
    "            cv2.putText(img_np, f\"Pred: {label_name}\", (xmin, ymax + 20), cv2.FONT_HERSHEY_SIMPLEX, 0.6, (0, 0, 255), 2)\n",
    "\n",
    "        # Save the image to a directory\n",
    "        save_path = os.path.join(save_dir, f\"image_{idx + 1}.jpg\")\n",
    "        cv2.imwrite(save_path, img_np)\n",
    "\n",
    "        print(f\"Saved image to {save_path}\")\n"
   ]
  },
  {
   "cell_type": "code",
   "execution_count": 68,
   "metadata": {},
   "outputs": [],
   "source": [
    "def evaluate_and_visualize_metrics(all_targets, all_preds):\n",
    "    \"\"\"\n",
    "    Evaluate and visualize metrics (accuracy, precision, recall, F1 score).\n",
    "    \"\"\"\n",
    "    # Ensure alignment of predictions and targets\n",
    "    min_length = min(len(all_targets), len(all_preds))\n",
    "    all_targets = all_targets[:min_length]\n",
    "    all_preds = all_preds[:min_length]\n",
    "\n",
    "    accuracy = accuracy_score(all_targets, all_preds)\n",
    "    precision = precision_score(all_targets, all_preds, average=\"weighted\", zero_division=0)\n",
    "    recall = recall_score(all_targets, all_preds, average=\"weighted\", zero_division=0)\n",
    "    f1 = f1_score(all_targets, all_preds, average=\"weighted\", zero_division=0)\n",
    "\n",
    "    print(f\"Accuracy: {accuracy:.4f}\")\n",
    "    print(f\"Precision: {precision:.4f}\")\n",
    "    print(f\"Recall: {recall:.4f}\")\n",
    "    print(f\"F1 Score: {f1:.4f}\")\n",
    "\n",
    "    # Plot metrics\n",
    "    metrics = {\"Precision\": precision, \"Recall\": recall, \"F1 Score\": f1}\n",
    "    plt.bar(metrics.keys(), metrics.values(), color=['blue', 'orange', 'green'])\n",
    "    plt.title(\"Evaluation Metrics\")\n",
    "    plt.ylim(0, 1)\n",
    "    plt.ylabel(\"Score\")\n",
    "    plt.show()\n"
   ]
  },
  {
   "cell_type": "code",
   "execution_count": 69,
   "metadata": {},
   "outputs": [
    {
     "name": "stdout",
     "output_type": "stream",
     "text": [
      "Loading GloVe embeddings from E:\\My Research Project\\CODE\\glove.6B.300d.txt...\n"
     ]
    },
    {
     "name": "stderr",
     "output_type": "stream",
     "text": [
      "C:\\Users\\ASUS\\AppData\\Local\\Temp\\ipykernel_25588\\1043328546.py:4: FutureWarning: You are using `torch.load` with `weights_only=False` (the current default value), which uses the default pickle module implicitly. It is possible to construct malicious pickle data which will execute arbitrary code during unpickling (See https://github.com/pytorch/pytorch/blob/main/SECURITY.md#untrusted-models for more details). In a future release, the default value for `weights_only` will be flipped to `True`. This limits the functions that could be executed during unpickling. Arbitrary objects will no longer be allowed to be loaded via this mode unless they are explicitly allowlisted by the user via `torch.serialization.add_safe_globals`. We recommend you start setting `weights_only=True` for any use case where you don't have full control of the loaded file. Please open an issue on GitHub for any issues related to this experimental feature.\n",
      "  checkpoint = torch.load(checkpoint_path)\n"
     ]
    },
    {
     "name": "stdout",
     "output_type": "stream",
     "text": [
      "Model loaded successfully from checkpoint.\n",
      "Saved image to output_images\\image_1.jpg\n",
      "Saved image to output_images\\image_2.jpg\n",
      "Saved image to output_images\\image_3.jpg\n",
      "Saved image to output_images\\image_4.jpg\n",
      "Saved image to output_images\\image_5.jpg\n",
      "Saved image to output_images\\image_6.jpg\n",
      "Saved image to output_images\\image_7.jpg\n",
      "Saved image to output_images\\image_8.jpg\n",
      "Saved image to output_images\\image_9.jpg\n",
      "Saved image to output_images\\image_10.jpg\n",
      "Accuracy: 0.2105\n",
      "Precision: 0.0921\n",
      "Recall: 0.2105\n",
      "F1 Score: 0.1281\n"
     ]
    },
    {
     "data": {
      "image/png": "[encoded data removed]",
      "text/plain": [
       "<Figure size 640x480 with 1 Axes>"
      ]
     },
     "metadata": {},
     "output_type": "display_data"
    }
   ],
   "source": [
    "\n",
    "# Main Execution\n",
    "if __name__ == \"__main__\":\n",
    "    checkpoint_path = r\"E:\\My Research Project\\CODE\\model_checkpoint.pth\"\n",
    "    test_loader = get_data_loader(DATASET_PATH, \"test\", batch_size=1)\n",
    "\n",
    "    # Load model from checkpoint\n",
    "    model = load_model_from_checkpoint(checkpoint_path, NUM_CLASSES)\n",
    "\n",
    "    # Test the model\n",
    "    predictions, all_targets, all_preds = test_model(model, test_loader, max_images=10)\n",
    "\n",
    "    # Visualize predictions\n",
    "    labelnames =  ['EXCAVATORS', 'dump truck', 'wheel loader', 'Ladder', 'Person', 'Fall-Detected', 'Gloves', 'Goggles', 'Hardhat', 'Ladder', 'Mask', 'NO-Gloves', 'NO-Goggles', 'NO-Hardhat', 'NO-Mask', 'NO-Safety Vest', 'Person', 'Safety Cone', 'Safety Vest'] \n",
    "    visualize_predictions_with_opencv(predictions,labelnames)\n",
    "\n",
    "    # Evaluate and visualize metrics\n",
    "    evaluate_and_visualize_metrics(all_targets, all_preds)\n"
   ]
  },
  {
   "cell_type": "code",
   "execution_count": null,
   "metadata": {},
   "outputs": [],
   "source": []
  }
 ],
 "metadata": {
  "kernelspec": {
   "display_name": "NewGPUTorch",
   "language": "python",
   "name": "python3"
  },
  "language_info": {
   "codemirror_mode": {
    "name": "ipython",
    "version": 3
   },
   "file_extension": ".py",
   "mimetype": "text/x-python",
   "name": "python",
   "nbconvert_exporter": "python",
   "pygments_lexer": "ipython3",
   "version": "3.11.10"
  }
 },
 "nbformat": 4,
 "nbformat_minor": 2
}
