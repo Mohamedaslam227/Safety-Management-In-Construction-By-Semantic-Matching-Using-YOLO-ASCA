{
 "cells": [
  {
   "cell_type": "code",
   "execution_count": 3,
   "metadata": {},
   "outputs": [
    {
     "name": "stdout",
     "output_type": "stream",
     "text": [
      "Dataset YAML saved at data_config.yaml\n",
      "WARNING  no model scale passed. Assuming scale='n'.\n",
      "Layer 0: Module = <class 'ultralytics.nn.modules.conv.Conv'>, Input Channels = 3, Output Channels = 16, Arguments = [3, 16, 3, 2]\n",
      "Layer 1: Module = <class 'ultralytics.nn.modules.conv.Conv'>, Input Channels = 16, Output Channels = 32, Arguments = [16, 32, 3, 2]\n",
      "Layer 2: Module = <class 'ultralytics.nn.modules.block.C3k2'>, Input Channels = 32, Output Channels = 64, Arguments = [32, 64, 1, False, 0.25]\n",
      "Layer 3: Module = <class 'ultralytics.nn.modules.conv.Conv'>, Input Channels = 64, Output Channels = 64, Arguments = [64, 64, 3, 2]\n",
      "Layer 4: Module = <class 'ultralytics.nn.modules.block.C3k2'>, Input Channels = 64, Output Channels = 128, Arguments = [64, 128, 1, False, 0.25]\n",
      "Layer 5: Module = <class 'ultralytics.nn.modules.conv.Conv'>, Input Channels = 128, Output Channels = 128, Arguments = [128, 128, 3, 2]\n",
      "Layer 6: Module = <class 'ultralytics.nn.modules.block.C3k2'>, Input Channels = 128, Output Channels = 128, Arguments = [128, 128, 1, True]\n",
      "Layer 7: Module = <class 'ultralytics.nn.modules.conv.Conv'>, Input Channels = 128, Output Channels = 256, Arguments = [128, 256, 3, 2]\n",
      "Layer 8: Module = <class 'ultralytics.nn.modules.block.C3k2'>, Input Channels = 256, Output Channels = 256, Arguments = [256, 256, 1, True]\n",
      "Layer 9: Module = <class 'ultralytics.nn.modules.block.SPPF'>, Input Channels = 256, Output Channels = 256, Arguments = [256, 256, 5]\n",
      "Layer 10: Module = <class 'ultralytics.nn.modules.block.C2PSA'>, Input Channels = 256, Output Channels = 256, Arguments = [256, 256, 1]\n",
      "Layer 11: Module = <class 'torch.nn.modules.upsampling.Upsample'>, Input Channels = 256, Output Channels = 256, Arguments = [None, 2, 'nearest']\n",
      "Layer 12: Module = <class 'ultralytics.nn.modules.conv.Concat'>, Input Channels = 256, Output Channels = 384, Arguments = [1]\n",
      "Layer 13: Module = <class 'ultralytics.nn.modules.block.C3k2'>, Input Channels = 384, Output Channels = 128, Arguments = [384, 128, 1, False]\n",
      "Layer 14: Module = <class 'torch.nn.modules.upsampling.Upsample'>, Input Channels = 384, Output Channels = 128, Arguments = [None, 2, 'nearest']\n",
      "Layer 15: Module = <class 'ultralytics.nn.modules.conv.Concat'>, Input Channels = 384, Output Channels = 256, Arguments = [1]\n",
      "Layer 16: Module = <class 'ultralytics.nn.modules.block.C3k2'>, Input Channels = 256, Output Channels = 64, Arguments = [256, 64, 1, False]\n",
      "Layer 17: Module = <class 'ultralytics.nn.modules.conv.Conv'>, Input Channels = 64, Output Channels = 64, Arguments = [64, 64, 3, 2]\n",
      "Layer 18: Module = <class 'ultralytics.nn.modules.conv.Concat'>, Input Channels = 64, Output Channels = 192, Arguments = [1]\n",
      "Layer 19: Module = <class 'ultralytics.nn.modules.block.C3k2'>, Input Channels = 192, Output Channels = 128, Arguments = [192, 128, 1, False]\n",
      "Layer 20: Module = <class 'ultralytics.nn.modules.conv.Conv'>, Input Channels = 128, Output Channels = 128, Arguments = [128, 128, 3, 2]\n",
      "Layer 21: Module = <class 'ultralytics.nn.modules.conv.Concat'>, Input Channels = 128, Output Channels = 384, Arguments = [1]\n",
      "Layer 22: Module = <class 'ultralytics.nn.modules.block.C3k2'>, Input Channels = 384, Output Channels = 256, Arguments = [384, 256, 1, True]\n",
      "Layer 23: Module = <class 'ultralytics.nn.modules.head.Detect'>, Input Channels = 384, Output Channels = 256, Arguments = [80, [64, 128, 256]]\n",
      "Checkpoint not found! Starting fresh training.\n"
     ]
    }
   ],
   "source": [
    "import os\n",
    "from ultralytics import YOLO\n",
    "import yaml\n",
    "import matplotlib.pyplot as plt\n",
    "\n",
    "# Paths\n",
    "DATASET_PATH = r\"E:\\My Research Project\\CODE\\DataSampled\"  \n",
    "CUSTOM_MODEL_YAML = \"yolov11.yaml\"  \n",
    "CHECKPOINT_PATH = \"yolo_V11_results/yolo_V11_run/weights/last.pt\"  \n",
    "FINAL_MODEL_PATH = \"yolo_V11_results/yolo_V11_run/weights/final.pt\"  \n",
    "BATCH_SIZE = 2  # Batch size\n",
    "\n",
    "# --------------------------- Generate Dataset YAML ---------------------------\n",
    "data_config = {\n",
    "    \"train\": os.path.join(DATASET_PATH, \"train\"),  # Path to training images\n",
    "    \"val\": os.path.join(DATASET_PATH, \"val\"),      # Path to validation images\n",
    "    \"nc\": 99,                                      # Number of classes\n",
    "    \"names\": [f\"{i}\" for i in range(99)]     # Dummy class names\n",
    "}\n",
    "\n",
    "# Save the dataset configuration as a YAML file\n",
    "dataset_yaml_path = \"data_config.yaml\"\n",
    "with open(dataset_yaml_path, \"w\") as file:\n",
    "    yaml.dump(data_config, file, default_flow_style=False)\n",
    "print(f\"Dataset YAML saved at {dataset_yaml_path}\")\n",
    "\n",
    "# --------------------------- Load YOLO Model ---------------------------\n",
    "# Load the YOLO model with the custom YAML file\n",
    "model = YOLO(CUSTOM_MODEL_YAML, task=\"detect\")\n",
    "\n",
    "# --------------------------- Training with Resume ---------------------------\n",
    "if os.path.exists(CHECKPOINT_PATH):\n",
    "    print(f\"Resuming training from checkpoint: {CHECKPOINT_PATH}\")\n",
    "    model.load(CHECKPOINT_PATH)  # Load the last checkpoint\n",
    "else:\n",
    "    print(\"Checkpoint not found! Starting fresh training.\")\n"
   ]
  },
  {
   "cell_type": "code",
   "execution_count": 4,
   "metadata": {},
   "outputs": [
    {
     "name": "stdout",
     "output_type": "stream",
     "text": [
      "New https://pypi.org/project/ultralytics/8.3.53 available  Update with 'pip install -U ultralytics'\n",
      "Ultralytics 8.3.50  Python-3.11.10 torch-2.5.1 CUDA:0 (NVIDIA GeForce RTX 3050 Laptop GPU, 4096MiB)\n",
      "\u001b[34m\u001b[1mengine\\trainer: \u001b[0mtask=detect, mode=train, model=yolov11.yaml, data=data_config.yaml, epochs=10, time=None, patience=100, batch=2, imgsz=640, save=True, save_period=1, cache=False, device=0, workers=8, project=yolo_esca_results, name=yolo_esca_run3, exist_ok=False, pretrained=True, optimizer=auto, verbose=True, seed=0, deterministic=True, single_cls=False, rect=False, cos_lr=False, close_mosaic=10, resume=False, amp=True, fraction=1.0, profile=False, freeze=None, multi_scale=False, overlap_mask=True, mask_ratio=4, dropout=0.0, val=True, split=val, save_json=False, save_hybrid=False, conf=None, iou=0.7, max_det=300, half=False, dnn=False, plots=True, source=None, vid_stride=1, stream_buffer=False, visualize=False, augment=False, agnostic_nms=False, classes=None, retina_masks=False, embed=None, show=False, save_frames=False, save_txt=False, save_conf=False, save_crop=False, show_labels=True, show_conf=True, show_boxes=True, line_width=None, format=torchscript, keras=False, optimize=False, int8=False, dynamic=False, simplify=True, opset=None, workspace=None, nms=False, lr0=0.01, lrf=0.01, momentum=0.937, weight_decay=0.0005, warmup_epochs=3.0, warmup_momentum=0.8, warmup_bias_lr=0.1, box=7.5, cls=0.5, dfl=1.5, pose=12.0, kobj=1.0, nbs=64, hsv_h=0.015, hsv_s=0.7, hsv_v=0.4, degrees=0.0, translate=0.1, scale=0.5, shear=0.0, perspective=0.0, flipud=0.0, fliplr=0.5, bgr=0.0, mosaic=1.0, mixup=0.0, copy_paste=0.0, copy_paste_mode=flip, auto_augment=randaugment, erasing=0.4, crop_fraction=1.0, cfg=None, tracker=botsort.yaml, save_dir=yolo_esca_results\\yolo_esca_run3\n",
      "Overriding model.yaml nc=80 with nc=99\n",
      "WARNING  no model scale passed. Assuming scale='n'.\n",
      "\n",
      "                   from  n    params  module                                       arguments                     \n",
      "  0                  -1  1       464  ultralytics.nn.modules.conv.Conv             [3, 16, 3, 2]                 \n",
      "Layer 0: Module = <class 'ultralytics.nn.modules.conv.Conv'>, Input Channels = 3, Output Channels = 16, Arguments = [3, 16, 3, 2]\n",
      "  1                  -1  1      4672  ultralytics.nn.modules.conv.Conv             [16, 32, 3, 2]                \n",
      "Layer 1: Module = <class 'ultralytics.nn.modules.conv.Conv'>, Input Channels = 16, Output Channels = 32, Arguments = [16, 32, 3, 2]\n",
      "  2                  -1  1      6640  ultralytics.nn.modules.block.C3k2            [32, 64, 1, False, 0.25]      \n",
      "Layer 2: Module = <class 'ultralytics.nn.modules.block.C3k2'>, Input Channels = 32, Output Channels = 64, Arguments = [32, 64, 1, False, 0.25]\n",
      "  3                  -1  1     36992  ultralytics.nn.modules.conv.Conv             [64, 64, 3, 2]                \n",
      "Layer 3: Module = <class 'ultralytics.nn.modules.conv.Conv'>, Input Channels = 64, Output Channels = 64, Arguments = [64, 64, 3, 2]\n",
      "  4                  -1  1     26080  ultralytics.nn.modules.block.C3k2            [64, 128, 1, False, 0.25]     \n",
      "Layer 4: Module = <class 'ultralytics.nn.modules.block.C3k2'>, Input Channels = 64, Output Channels = 128, Arguments = [64, 128, 1, False, 0.25]\n",
      "  5                  -1  1    147712  ultralytics.nn.modules.conv.Conv             [128, 128, 3, 2]              \n",
      "Layer 5: Module = <class 'ultralytics.nn.modules.conv.Conv'>, Input Channels = 128, Output Channels = 128, Arguments = [128, 128, 3, 2]\n",
      "  6                  -1  1     87040  ultralytics.nn.modules.block.C3k2            [128, 128, 1, True]           \n",
      "Layer 6: Module = <class 'ultralytics.nn.modules.block.C3k2'>, Input Channels = 128, Output Channels = 128, Arguments = [128, 128, 1, True]\n",
      "  7                  -1  1    295424  ultralytics.nn.modules.conv.Conv             [128, 256, 3, 2]              \n",
      "Layer 7: Module = <class 'ultralytics.nn.modules.conv.Conv'>, Input Channels = 128, Output Channels = 256, Arguments = [128, 256, 3, 2]\n",
      "  8                  -1  1    346112  ultralytics.nn.modules.block.C3k2            [256, 256, 1, True]           \n",
      "Layer 8: Module = <class 'ultralytics.nn.modules.block.C3k2'>, Input Channels = 256, Output Channels = 256, Arguments = [256, 256, 1, True]\n",
      "  9                  -1  1    164608  ultralytics.nn.modules.block.SPPF            [256, 256, 5]                 \n",
      "Layer 9: Module = <class 'ultralytics.nn.modules.block.SPPF'>, Input Channels = 256, Output Channels = 256, Arguments = [256, 256, 5]\n",
      " 10                  -1  1    249728  ultralytics.nn.modules.block.C2PSA           [256, 256, 1]                 \n",
      "Layer 10: Module = <class 'ultralytics.nn.modules.block.C2PSA'>, Input Channels = 256, Output Channels = 256, Arguments = [256, 256, 1]\n",
      " 11                  -1  1         0  torch.nn.modules.upsampling.Upsample         [None, 2, 'nearest']          \n",
      "Layer 11: Module = <class 'torch.nn.modules.upsampling.Upsample'>, Input Channels = 256, Output Channels = 256, Arguments = [None, 2, 'nearest']\n",
      " 12             [-1, 6]  1         0  ultralytics.nn.modules.conv.Concat           [1]                           \n",
      "Layer 12: Module = <class 'ultralytics.nn.modules.conv.Concat'>, Input Channels = 256, Output Channels = 384, Arguments = [1]\n",
      " 13                  -1  1    111296  ultralytics.nn.modules.block.C3k2            [384, 128, 1, False]          \n",
      "Layer 13: Module = <class 'ultralytics.nn.modules.block.C3k2'>, Input Channels = 384, Output Channels = 128, Arguments = [384, 128, 1, False]\n",
      " 14                  -1  1         0  torch.nn.modules.upsampling.Upsample         [None, 2, 'nearest']          \n",
      "Layer 14: Module = <class 'torch.nn.modules.upsampling.Upsample'>, Input Channels = 384, Output Channels = 128, Arguments = [None, 2, 'nearest']\n",
      " 15             [-1, 4]  1         0  ultralytics.nn.modules.conv.Concat           [1]                           \n",
      "Layer 15: Module = <class 'ultralytics.nn.modules.conv.Concat'>, Input Channels = 384, Output Channels = 256, Arguments = [1]\n",
      " 16                  -1  1     32096  ultralytics.nn.modules.block.C3k2            [256, 64, 1, False]           \n",
      "Layer 16: Module = <class 'ultralytics.nn.modules.block.C3k2'>, Input Channels = 256, Output Channels = 64, Arguments = [256, 64, 1, False]\n",
      " 17                  -1  1     36992  ultralytics.nn.modules.conv.Conv             [64, 64, 3, 2]                \n",
      "Layer 17: Module = <class 'ultralytics.nn.modules.conv.Conv'>, Input Channels = 64, Output Channels = 64, Arguments = [64, 64, 3, 2]\n",
      " 18            [-1, 13]  1         0  ultralytics.nn.modules.conv.Concat           [1]                           \n",
      "Layer 18: Module = <class 'ultralytics.nn.modules.conv.Concat'>, Input Channels = 64, Output Channels = 192, Arguments = [1]\n",
      " 19                  -1  1     86720  ultralytics.nn.modules.block.C3k2            [192, 128, 1, False]          \n",
      "Layer 19: Module = <class 'ultralytics.nn.modules.block.C3k2'>, Input Channels = 192, Output Channels = 128, Arguments = [192, 128, 1, False]\n",
      " 20                  -1  1    147712  ultralytics.nn.modules.conv.Conv             [128, 128, 3, 2]              \n",
      "Layer 20: Module = <class 'ultralytics.nn.modules.conv.Conv'>, Input Channels = 128, Output Channels = 128, Arguments = [128, 128, 3, 2]\n",
      " 21            [-1, 10]  1         0  ultralytics.nn.modules.conv.Concat           [1]                           \n",
      "Layer 21: Module = <class 'ultralytics.nn.modules.conv.Concat'>, Input Channels = 128, Output Channels = 384, Arguments = [1]\n",
      " 22                  -1  1    378880  ultralytics.nn.modules.block.C3k2            [384, 256, 1, True]           \n",
      "Layer 22: Module = <class 'ultralytics.nn.modules.block.C3k2'>, Input Channels = 384, Output Channels = 256, Arguments = [384, 256, 1, True]\n",
      " 23        [16, 19, 22]  1    494742  ultralytics.nn.modules.head.Detect           [99, [64, 128, 256]]          \n",
      "Layer 23: Module = <class 'ultralytics.nn.modules.head.Detect'>, Input Channels = 384, Output Channels = 256, Arguments = [99, [64, 128, 256]]\n",
      "YOLOv11 summary: 319 layers, 2,653,910 parameters, 2,653,894 gradients, 6.8 GFLOPs\n",
      "\n",
      "\u001b[34m\u001b[1mTensorBoard: \u001b[0mStart with 'tensorboard --logdir yolo_esca_results\\yolo_esca_run3', view at http://localhost:6006/\n",
      "Freezing layer 'model.23.dfl.conv.weight'\n",
      "\u001b[34m\u001b[1mAMP: \u001b[0mrunning Automatic Mixed Precision (AMP) checks...\n",
      "\u001b[34m\u001b[1mAMP: \u001b[0mchecks passed \n"
     ]
    },
    {
     "name": "stderr",
     "output_type": "stream",
     "text": [
      "\u001b[34m\u001b[1mtrain: \u001b[0mScanning E:\\My Research Project\\CODE\\DataSampled\\train\\labels.cache... 6053 images, 1454 backgrounds, 0 corrupt: 100%|██████████| 6053/6053 [00:00<?, ?it/s]\n",
      "\u001b[34m\u001b[1mval: \u001b[0mScanning E:\\My Research Project\\CODE\\DataSampled\\val\\labels.cache... 1601 images, 250 backgrounds, 0 corrupt: 100%|██████████| 1601/1601 [00:00<?, ?it/s]\n"
     ]
    },
    {
     "name": "stdout",
     "output_type": "stream",
     "text": [
      "Plotting labels to yolo_esca_results\\yolo_esca_run3\\labels.jpg... \n",
      "\u001b[34m\u001b[1moptimizer:\u001b[0m 'optimizer=auto' found, ignoring 'lr0=0.01' and 'momentum=0.937' and determining best 'optimizer', 'lr0' and 'momentum' automatically... \n",
      "\u001b[34m\u001b[1moptimizer:\u001b[0m AdamW(lr=9.7e-05, momentum=0.9) with parameter groups 81 weight(decay=0.0), 88 weight(decay=0.0005), 87 bias(decay=0.0)\n",
      "\u001b[34m\u001b[1mTensorBoard: \u001b[0mmodel graph visualization added \n",
      "Image sizes 640 train, 640 val\n",
      "Using 8 dataloader workers\n",
      "Logging results to \u001b[1myolo_esca_results\\yolo_esca_run3\u001b[0m\n",
      "Starting training for 10 epochs...\n",
      "Closing dataloader mosaic\n",
      "\n",
      "      Epoch    GPU_mem   box_loss   cls_loss   dfl_loss  Instances       Size\n"
     ]
    },
    {
     "name": "stderr",
     "output_type": "stream",
     "text": [
      "       1/10     0.533G      3.025      8.222      3.879          4        640: 100%|██████████| 3027/3027 [05:36<00:00,  9.00it/s]\n",
      "                 Class     Images  Instances      Box(P          R      mAP50  mAP50-95): 100%|██████████| 401/401 [00:30<00:00, 12.96it/s]\n"
     ]
    },
    {
     "name": "stdout",
     "output_type": "stream",
     "text": [
      "                   all       1601       3775      0.182   0.000779   0.000159   5.39e-05\n",
      "\n",
      "      Epoch    GPU_mem   box_loss   cls_loss   dfl_loss  Instances       Size\n"
     ]
    },
    {
     "name": "stderr",
     "output_type": "stream",
     "text": [
      "       2/10     0.512G      3.017      7.762      3.727          3        640: 100%|██████████| 3027/3027 [04:51<00:00, 10.39it/s]\n",
      "                 Class     Images  Instances      Box(P          R      mAP50  mAP50-95): 100%|██████████| 401/401 [00:24<00:00, 16.10it/s]\n"
     ]
    },
    {
     "name": "stdout",
     "output_type": "stream",
     "text": [
      "                   all       1601       3775   0.000238    0.00413    0.00013   2.43e-05\n",
      "\n",
      "      Epoch    GPU_mem   box_loss   cls_loss   dfl_loss  Instances       Size\n"
     ]
    },
    {
     "name": "stderr",
     "output_type": "stream",
     "text": [
      "       3/10     0.499G      2.969      7.413      3.529          1        640: 100%|██████████| 3027/3027 [04:41<00:00, 10.75it/s]\n",
      "                 Class     Images  Instances      Box(P          R      mAP50  mAP50-95): 100%|██████████| 401/401 [00:21<00:00, 18.63it/s]"
     ]
    },
    {
     "name": "stdout",
     "output_type": "stream",
     "text": [
      "                   all       1601       3775   1.35e-05    0.00119   8.54e-06   3.57e-06\n"
     ]
    },
    {
     "name": "stderr",
     "output_type": "stream",
     "text": [
      "\n"
     ]
    },
    {
     "name": "stdout",
     "output_type": "stream",
     "text": [
      "\n",
      "      Epoch    GPU_mem   box_loss   cls_loss   dfl_loss  Instances       Size\n"
     ]
    },
    {
     "name": "stderr",
     "output_type": "stream",
     "text": [
      "       4/10     0.489G      2.877      7.086      3.376          0        640: 100%|██████████| 3027/3027 [04:57<00:00, 10.17it/s]\n",
      "                 Class     Images  Instances      Box(P          R      mAP50  mAP50-95): 100%|██████████| 401/401 [00:20<00:00, 19.24it/s]"
     ]
    },
    {
     "name": "stdout",
     "output_type": "stream",
     "text": [
      "                   all       1601       3775      0.394   0.000652   4.12e-06   1.16e-06\n"
     ]
    },
    {
     "name": "stderr",
     "output_type": "stream",
     "text": [
      "\n"
     ]
    },
    {
     "name": "stdout",
     "output_type": "stream",
     "text": [
      "\n",
      "      Epoch    GPU_mem   box_loss   cls_loss   dfl_loss  Instances       Size\n"
     ]
    },
    {
     "name": "stderr",
     "output_type": "stream",
     "text": [
      "       5/10     0.489G      2.825      6.825      3.266          1        640: 100%|██████████| 3027/3027 [04:53<00:00, 10.32it/s]\n",
      "                 Class     Images  Instances      Box(P          R      mAP50  mAP50-95): 100%|██████████| 401/401 [00:22<00:00, 17.85it/s]"
     ]
    },
    {
     "name": "stdout",
     "output_type": "stream",
     "text": [
      "                   all       1601       3775      0.162   0.000326   1.55e-05   2.61e-06\n"
     ]
    },
    {
     "name": "stderr",
     "output_type": "stream",
     "text": [
      "\n"
     ]
    },
    {
     "name": "stdout",
     "output_type": "stream",
     "text": [
      "\n",
      "      Epoch    GPU_mem   box_loss   cls_loss   dfl_loss  Instances       Size\n"
     ]
    },
    {
     "name": "stderr",
     "output_type": "stream",
     "text": [
      "       6/10     0.508G      2.783      6.677      3.222          3        640: 100%|██████████| 3027/3027 [04:54<00:00, 10.27it/s]\n",
      "                 Class     Images  Instances      Box(P          R      mAP50  mAP50-95): 100%|██████████| 401/401 [00:22<00:00, 18.22it/s]"
     ]
    },
    {
     "name": "stdout",
     "output_type": "stream",
     "text": [
      "                   all       1601       3775      0.101   0.000326   7.84e-06   1.94e-06\n"
     ]
    },
    {
     "name": "stderr",
     "output_type": "stream",
     "text": [
      "\n"
     ]
    },
    {
     "name": "stdout",
     "output_type": "stream",
     "text": [
      "\n",
      "      Epoch    GPU_mem   box_loss   cls_loss   dfl_loss  Instances       Size\n"
     ]
    },
    {
     "name": "stderr",
     "output_type": "stream",
     "text": [
      "       7/10     0.508G      2.733      6.551      3.161          4        640: 100%|██████████| 3027/3027 [06:25<00:00,  7.86it/s]  \n",
      "                 Class     Images  Instances      Box(P          R      mAP50  mAP50-95): 100%|██████████| 401/401 [00:23<00:00, 17.09it/s]\n"
     ]
    },
    {
     "name": "stdout",
     "output_type": "stream",
     "text": [
      "                   all       1601       3775     0.0909   0.000978   1.19e-05   4.24e-06\n",
      "\n",
      "      Epoch    GPU_mem   box_loss   cls_loss   dfl_loss  Instances       Size\n"
     ]
    },
    {
     "name": "stderr",
     "output_type": "stream",
     "text": [
      "       8/10     0.508G      2.715      6.439      3.139          0        640: 100%|██████████| 3027/3027 [04:50<00:00, 10.40it/s]\n",
      "                 Class     Images  Instances      Box(P          R      mAP50  mAP50-95): 100%|██████████| 401/401 [00:23<00:00, 17.25it/s]"
     ]
    },
    {
     "name": "stdout",
     "output_type": "stream",
     "text": [
      "                   all       1601       3775     0.0606   0.000978   1.51e-05   6.26e-06\n"
     ]
    },
    {
     "name": "stderr",
     "output_type": "stream",
     "text": [
      "\n"
     ]
    },
    {
     "name": "stdout",
     "output_type": "stream",
     "text": [
      "\n",
      "      Epoch    GPU_mem   box_loss   cls_loss   dfl_loss  Instances       Size\n"
     ]
    },
    {
     "name": "stderr",
     "output_type": "stream",
     "text": [
      "       9/10     0.491G      2.675      6.338      3.107          3        640: 100%|██████████| 3027/3027 [04:53<00:00, 10.31it/s]\n",
      "                 Class     Images  Instances      Box(P          R      mAP50  mAP50-95): 100%|██████████| 401/401 [00:22<00:00, 17.99it/s]"
     ]
    },
    {
     "name": "stdout",
     "output_type": "stream",
     "text": [
      "                   all       1601       3775    0.00203    0.00559    0.00104   0.000108\n"
     ]
    },
    {
     "name": "stderr",
     "output_type": "stream",
     "text": [
      "\n"
     ]
    },
    {
     "name": "stdout",
     "output_type": "stream",
     "text": [
      "\n",
      "      Epoch    GPU_mem   box_loss   cls_loss   dfl_loss  Instances       Size\n"
     ]
    },
    {
     "name": "stderr",
     "output_type": "stream",
     "text": [
      "      10/10     0.508G      2.687       6.32      3.093          9        640: 100%|██████████| 3027/3027 [04:50<00:00, 10.41it/s]\n",
      "                 Class     Images  Instances      Box(P          R      mAP50  mAP50-95): 100%|██████████| 401/401 [00:22<00:00, 17.47it/s]\n"
     ]
    },
    {
     "name": "stdout",
     "output_type": "stream",
     "text": [
      "                   all       1601       3775      0.111   0.000652   2.33e-05   1.05e-05\n",
      "\n",
      "10 epochs completed in 0.930 hours.\n",
      "Optimizer stripped from yolo_esca_results\\yolo_esca_run3\\weights\\last.pt, 5.6MB\n",
      "Optimizer stripped from yolo_esca_results\\yolo_esca_run3\\weights\\best.pt, 5.6MB\n",
      "\n",
      "Validating yolo_esca_results\\yolo_esca_run3\\weights\\best.pt...\n",
      "Ultralytics 8.3.50  Python-3.11.10 torch-2.5.1 CUDA:0 (NVIDIA GeForce RTX 3050 Laptop GPU, 4096MiB)\n",
      "YOLOv11 summary (fused): 238 layers, 2,645,907 parameters, 0 gradients, 6.6 GFLOPs\n"
     ]
    },
    {
     "name": "stderr",
     "output_type": "stream",
     "text": [
      "                 Class     Images  Instances      Box(P          R      mAP50  mAP50-95): 100%|██████████| 401/401 [00:14<00:00, 26.77it/s]\n"
     ]
    },
    {
     "name": "stdout",
     "output_type": "stream",
     "text": [
      "                   all       1601       3775    0.00169    0.00559   0.000871   9.11e-05\n",
      "                     0         18         20          0          0          0          0\n",
      "                     1         37         51          0          0          0          0\n",
      "                     2         49         50          0          0          0          0\n",
      "                     3         32         37          0          0          0          0\n",
      "                     4         30         51          0          0          0          0\n",
      "                     5         50         50          0          0          0          0\n",
      "                     6         23         50          0          0          0          0\n",
      "                     7         50         50          0          0          0          0\n",
      "                     8         13         50          0          0          0          0\n",
      "                     9         32         37          0          0          0          0\n",
      "                    10         10         50          0          0          0          0\n",
      "                    11         38         50          0          0          0          0\n",
      "                    12         49         50   0.000531       0.12   0.000302   0.000117\n",
      "                    13          9         55          0          0          0          0\n",
      "                    14         49         50          0          0          0          0\n",
      "                    15         15         50          0          0          0          0\n",
      "                    16         30         51          0          0          0          0\n",
      "                    17         18         50          0          0          0          0\n",
      "                    18         23         50      0.167       0.02      0.085     0.0085\n",
      "                    19         31         50          0          0          0          0\n",
      "                    20         18         45          0          0          0          0\n",
      "                    21          8         10          0          0          0          0\n",
      "                    22         14         51          0          0          0          0\n",
      "                    23          1         13          0          0          0          0\n",
      "                    24          2          2          0          0          0          0\n",
      "                    25         32         50          0          0          0          0\n",
      "                    26         43         46          0          0          0          0\n",
      "                    27         32         50          0          0          0          0\n",
      "                    28         16         28          0          0          0          0\n",
      "                    29         14         54          0          0          0          0\n",
      "                    30         12         60          0          0          0          0\n",
      "                    31          7         57          0          0          0          0\n",
      "                    32         22         58          0          0          0          0\n",
      "                    33         34         50          0          0          0          0\n",
      "                    34         12         56          0          0          0          0\n",
      "                    35         27         52          0          0          0          0\n",
      "                    36         22         38          0          0          0          0\n",
      "                    37         17         53          0          0          0          0\n",
      "                    38         14         56          0          0          0          0\n",
      "                    39         47         50          0          0          0          0\n",
      "                    40         18         25          0          0          0          0\n",
      "                    41         28         51          0          0          0          0\n",
      "                    42         43         50          0          0          0          0\n",
      "                    43         16         58          0          0          0          0\n",
      "                    44         34         51          0          0          0          0\n",
      "                    45         50         50          0          0          0          0\n",
      "                    46         39         51          0          0          0          0\n",
      "                    47          8         52          0          0          0          0\n",
      "                    48         20         51          0          0          0          0\n",
      "                    49         25         33   0.000246     0.0909   0.000139   2.24e-05\n",
      "                    50         23         29          0          0          0          0\n",
      "                    51          9         12          0          0          0          0\n",
      "                    52         25         52          0          0          0          0\n",
      "                    53          1          1          0          0          0          0\n",
      "                    54          7          8          0          0          0          0\n",
      "                    55         19         51          0          0          0          0\n",
      "                    56          8         12          0          0          0          0\n",
      "                    57         34         41          0          0          0          0\n",
      "                    58          7         18          0          0          0          0\n",
      "                    59         27         52          0          0          0          0\n",
      "                    60         32         38          0          0          0          0\n",
      "                    61         14         14          0          0          0          0\n",
      "                    62         22         56          0          0          0          0\n",
      "                    63         26         33          0          0          0          0\n",
      "                    64         15         56          0          0          0          0\n",
      "                    65         22         25          0          0          0          0\n",
      "                    66         13         21          0          0          0          0\n",
      "                    67         11         54          0          0          0          0\n",
      "                    68         33         50          0          0          0          0\n",
      "                    69         23         47          0          0          0          0\n",
      "                    70         23         36          0          0          0          0\n",
      "                    71         13         16          0          0          0          0\n",
      "                    72         22         36          0          0          0          0\n",
      "                    73          9         12          0          0          0          0\n",
      "                    74         15         57          0          0          0          0\n",
      "                    75         38         50          0          0          0          0\n",
      "                    76          3          4          0          0          0          0\n",
      "                    77          1          1          0          0          0          0\n",
      "                    78          1          1          0          0          0          0\n",
      "                    79         20         23          0          0          0          0\n",
      "                    80         21         32          0          0          0          0\n",
      "                    81          5          7          0          0          0          0\n",
      "                    82         29         31   0.000353      0.323   0.000832   0.000381\n",
      "                    83         16         38          0          0          0          0\n",
      "                    84          5         15          0          0          0          0\n",
      "                    85         29         53          0          0          0          0\n",
      "                    86          3          3          0          0          0          0\n",
      "                    87          3          4          0          0          0          0\n",
      "                    88          3          3          0          0          0          0\n",
      "                    89         45         50          0          0          0          0\n",
      "                    90          1          1          0          0          0          0\n",
      "                    91         17         50          0          0          0          0\n",
      "                    92         44         50          0          0          0          0\n",
      "                    93         31         50          0          0          0          0\n",
      "                    94         33         41          0          0          0          0\n",
      "                    95         12         21          0          0          0          0\n",
      "                    96         26         50          0          0          0          0\n",
      "                    97          6         17          0          0          0          0\n",
      "                    98         18         50          0          0          0          0\n",
      "Speed: 0.4ms preprocess, 5.8ms inference, 0.0ms loss, 1.0ms postprocess per image\n",
      "Results saved to \u001b[1myolo_esca_results\\yolo_esca_run3\u001b[0m\n",
      "Ultralytics 8.3.50  Python-3.11.10 torch-2.5.1 CUDA:0 (NVIDIA GeForce RTX 3050 Laptop GPU, 4096MiB)\n",
      "YOLOv11 summary (fused): 238 layers, 2,645,907 parameters, 0 gradients, 6.6 GFLOPs\n"
     ]
    },
    {
     "name": "stderr",
     "output_type": "stream",
     "text": [
      "\u001b[34m\u001b[1mval: \u001b[0mScanning E:\\My Research Project\\CODE\\DataSampled\\val\\labels.cache... 1601 images, 250 backgrounds, 0 corrupt: 100%|██████████| 1601/1601 [00:00<?, ?it/s]\n"
     ]
    },
    {
     "ename": "MemoryError",
     "evalue": "",
     "output_type": "error",
     "traceback": [
      "\u001b[1;31m---------------------------------------------------------------------------\u001b[0m",
      "\u001b[1;31mMemoryError\u001b[0m                               Traceback (most recent call last)",
      "Cell \u001b[1;32mIn[4], line 17\u001b[0m\n\u001b[0;32m      2\u001b[0m results \u001b[38;5;241m=\u001b[39m model\u001b[38;5;241m.\u001b[39mtrain(\n\u001b[0;32m      3\u001b[0m     data\u001b[38;5;241m=\u001b[39mdataset_yaml_path,  \u001b[38;5;66;03m# Path to dataset YAML file\u001b[39;00m\n\u001b[0;32m      4\u001b[0m     epochs\u001b[38;5;241m=\u001b[39m\u001b[38;5;241m10\u001b[39m,                \u001b[38;5;66;03m# Number of epochs\u001b[39;00m\n\u001b[1;32m   (...)\u001b[0m\n\u001b[0;32m     12\u001b[0m     save\u001b[38;5;241m=\u001b[39m\u001b[38;5;28;01mTrue\u001b[39;00m                \u001b[38;5;66;03m# Save best model checkpoint\u001b[39;00m\n\u001b[0;32m     13\u001b[0m )\n\u001b[0;32m     15\u001b[0m \u001b[38;5;66;03m# --------------------------- Evaluation ---------------------------\u001b[39;00m\n\u001b[0;32m     16\u001b[0m \u001b[38;5;66;03m# Validate the model after training\u001b[39;00m\n\u001b[1;32m---> 17\u001b[0m metrics \u001b[38;5;241m=\u001b[39m \u001b[43mmodel\u001b[49m\u001b[38;5;241;43m.\u001b[39;49m\u001b[43mval\u001b[49m\u001b[43m(\u001b[49m\u001b[43m)\u001b[49m\n\u001b[0;32m     18\u001b[0m \u001b[38;5;28mprint\u001b[39m(\u001b[38;5;124mf\u001b[39m\u001b[38;5;124m\"\u001b[39m\u001b[38;5;124mValidation Results: \u001b[39m\u001b[38;5;132;01m{\u001b[39;00mmetrics\u001b[38;5;132;01m}\u001b[39;00m\u001b[38;5;124m\"\u001b[39m)\n",
      "File \u001b[1;32mc:\\Users\\ASUS\\anaconda3\\envs\\NewGPUTorch\\Lib\\site-packages\\ultralytics\\engine\\model.py:639\u001b[0m, in \u001b[0;36mModel.val\u001b[1;34m(self, validator, **kwargs)\u001b[0m\n\u001b[0;32m    636\u001b[0m args \u001b[38;5;241m=\u001b[39m {\u001b[38;5;241m*\u001b[39m\u001b[38;5;241m*\u001b[39m\u001b[38;5;28mself\u001b[39m\u001b[38;5;241m.\u001b[39moverrides, \u001b[38;5;241m*\u001b[39m\u001b[38;5;241m*\u001b[39mcustom, \u001b[38;5;241m*\u001b[39m\u001b[38;5;241m*\u001b[39mkwargs, \u001b[38;5;124m\"\u001b[39m\u001b[38;5;124mmode\u001b[39m\u001b[38;5;124m\"\u001b[39m: \u001b[38;5;124m\"\u001b[39m\u001b[38;5;124mval\u001b[39m\u001b[38;5;124m\"\u001b[39m}  \u001b[38;5;66;03m# highest priority args on the right\u001b[39;00m\n\u001b[0;32m    638\u001b[0m validator \u001b[38;5;241m=\u001b[39m (validator \u001b[38;5;129;01mor\u001b[39;00m \u001b[38;5;28mself\u001b[39m\u001b[38;5;241m.\u001b[39m_smart_load(\u001b[38;5;124m\"\u001b[39m\u001b[38;5;124mvalidator\u001b[39m\u001b[38;5;124m\"\u001b[39m))(args\u001b[38;5;241m=\u001b[39margs, _callbacks\u001b[38;5;241m=\u001b[39m\u001b[38;5;28mself\u001b[39m\u001b[38;5;241m.\u001b[39mcallbacks)\n\u001b[1;32m--> 639\u001b[0m \u001b[43mvalidator\u001b[49m\u001b[43m(\u001b[49m\u001b[43mmodel\u001b[49m\u001b[38;5;241;43m=\u001b[39;49m\u001b[38;5;28;43mself\u001b[39;49m\u001b[38;5;241;43m.\u001b[39;49m\u001b[43mmodel\u001b[49m\u001b[43m)\u001b[49m\n\u001b[0;32m    640\u001b[0m \u001b[38;5;28mself\u001b[39m\u001b[38;5;241m.\u001b[39mmetrics \u001b[38;5;241m=\u001b[39m validator\u001b[38;5;241m.\u001b[39mmetrics\n\u001b[0;32m    641\u001b[0m \u001b[38;5;28;01mreturn\u001b[39;00m validator\u001b[38;5;241m.\u001b[39mmetrics\n",
      "File \u001b[1;32mc:\\Users\\ASUS\\anaconda3\\envs\\NewGPUTorch\\Lib\\site-packages\\torch\\utils\\_contextlib.py:116\u001b[0m, in \u001b[0;36mcontext_decorator.<locals>.decorate_context\u001b[1;34m(*args, **kwargs)\u001b[0m\n\u001b[0;32m    113\u001b[0m \u001b[38;5;129m@functools\u001b[39m\u001b[38;5;241m.\u001b[39mwraps(func)\n\u001b[0;32m    114\u001b[0m \u001b[38;5;28;01mdef\u001b[39;00m \u001b[38;5;21mdecorate_context\u001b[39m(\u001b[38;5;241m*\u001b[39margs, \u001b[38;5;241m*\u001b[39m\u001b[38;5;241m*\u001b[39mkwargs):\n\u001b[0;32m    115\u001b[0m     \u001b[38;5;28;01mwith\u001b[39;00m ctx_factory():\n\u001b[1;32m--> 116\u001b[0m         \u001b[38;5;28;01mreturn\u001b[39;00m \u001b[43mfunc\u001b[49m\u001b[43m(\u001b[49m\u001b[38;5;241;43m*\u001b[39;49m\u001b[43margs\u001b[49m\u001b[43m,\u001b[49m\u001b[43m \u001b[49m\u001b[38;5;241;43m*\u001b[39;49m\u001b[38;5;241;43m*\u001b[39;49m\u001b[43mkwargs\u001b[49m\u001b[43m)\u001b[49m\n",
      "File \u001b[1;32mc:\\Users\\ASUS\\anaconda3\\envs\\NewGPUTorch\\Lib\\site-packages\\ultralytics\\engine\\validator.py:156\u001b[0m, in \u001b[0;36mBaseValidator.__call__\u001b[1;34m(self, trainer, model)\u001b[0m\n\u001b[0;32m    154\u001b[0m     \u001b[38;5;28mself\u001b[39m\u001b[38;5;241m.\u001b[39margs\u001b[38;5;241m.\u001b[39mrect \u001b[38;5;241m=\u001b[39m \u001b[38;5;28;01mFalse\u001b[39;00m\n\u001b[0;32m    155\u001b[0m \u001b[38;5;28mself\u001b[39m\u001b[38;5;241m.\u001b[39mstride \u001b[38;5;241m=\u001b[39m model\u001b[38;5;241m.\u001b[39mstride  \u001b[38;5;66;03m# used in get_dataloader() for padding\u001b[39;00m\n\u001b[1;32m--> 156\u001b[0m \u001b[38;5;28mself\u001b[39m\u001b[38;5;241m.\u001b[39mdataloader \u001b[38;5;241m=\u001b[39m \u001b[38;5;28mself\u001b[39m\u001b[38;5;241m.\u001b[39mdataloader \u001b[38;5;129;01mor\u001b[39;00m \u001b[38;5;28;43mself\u001b[39;49m\u001b[38;5;241;43m.\u001b[39;49m\u001b[43mget_dataloader\u001b[49m\u001b[43m(\u001b[49m\u001b[38;5;28;43mself\u001b[39;49m\u001b[38;5;241;43m.\u001b[39;49m\u001b[43mdata\u001b[49m\u001b[38;5;241;43m.\u001b[39;49m\u001b[43mget\u001b[49m\u001b[43m(\u001b[49m\u001b[38;5;28;43mself\u001b[39;49m\u001b[38;5;241;43m.\u001b[39;49m\u001b[43margs\u001b[49m\u001b[38;5;241;43m.\u001b[39;49m\u001b[43msplit\u001b[49m\u001b[43m)\u001b[49m\u001b[43m,\u001b[49m\u001b[43m \u001b[49m\u001b[38;5;28;43mself\u001b[39;49m\u001b[38;5;241;43m.\u001b[39;49m\u001b[43margs\u001b[49m\u001b[38;5;241;43m.\u001b[39;49m\u001b[43mbatch\u001b[49m\u001b[43m)\u001b[49m\n\u001b[0;32m    158\u001b[0m model\u001b[38;5;241m.\u001b[39meval()\n\u001b[0;32m    159\u001b[0m model\u001b[38;5;241m.\u001b[39mwarmup(imgsz\u001b[38;5;241m=\u001b[39m(\u001b[38;5;241m1\u001b[39m \u001b[38;5;28;01mif\u001b[39;00m pt \u001b[38;5;28;01melse\u001b[39;00m \u001b[38;5;28mself\u001b[39m\u001b[38;5;241m.\u001b[39margs\u001b[38;5;241m.\u001b[39mbatch, \u001b[38;5;241m3\u001b[39m, imgsz, imgsz))  \u001b[38;5;66;03m# warmup\u001b[39;00m\n",
      "File \u001b[1;32mc:\\Users\\ASUS\\anaconda3\\envs\\NewGPUTorch\\Lib\\site-packages\\ultralytics\\models\\yolo\\detect\\val.py:244\u001b[0m, in \u001b[0;36mDetectionValidator.get_dataloader\u001b[1;34m(self, dataset_path, batch_size)\u001b[0m\n\u001b[0;32m    242\u001b[0m \u001b[38;5;250m\u001b[39m\u001b[38;5;124;03m\"\"\"Construct and return dataloader.\"\"\"\u001b[39;00m\n\u001b[0;32m    243\u001b[0m dataset \u001b[38;5;241m=\u001b[39m \u001b[38;5;28mself\u001b[39m\u001b[38;5;241m.\u001b[39mbuild_dataset(dataset_path, batch\u001b[38;5;241m=\u001b[39mbatch_size, mode\u001b[38;5;241m=\u001b[39m\u001b[38;5;124m\"\u001b[39m\u001b[38;5;124mval\u001b[39m\u001b[38;5;124m\"\u001b[39m)\n\u001b[1;32m--> 244\u001b[0m \u001b[38;5;28;01mreturn\u001b[39;00m \u001b[43mbuild_dataloader\u001b[49m\u001b[43m(\u001b[49m\u001b[43mdataset\u001b[49m\u001b[43m,\u001b[49m\u001b[43m \u001b[49m\u001b[43mbatch_size\u001b[49m\u001b[43m,\u001b[49m\u001b[43m \u001b[49m\u001b[38;5;28;43mself\u001b[39;49m\u001b[38;5;241;43m.\u001b[39;49m\u001b[43margs\u001b[49m\u001b[38;5;241;43m.\u001b[39;49m\u001b[43mworkers\u001b[49m\u001b[43m,\u001b[49m\u001b[43m \u001b[49m\u001b[43mshuffle\u001b[49m\u001b[38;5;241;43m=\u001b[39;49m\u001b[38;5;28;43;01mFalse\u001b[39;49;00m\u001b[43m,\u001b[49m\u001b[43m \u001b[49m\u001b[43mrank\u001b[49m\u001b[38;5;241;43m=\u001b[39;49m\u001b[38;5;241;43m-\u001b[39;49m\u001b[38;5;241;43m1\u001b[39;49m\u001b[43m)\u001b[49m\n",
      "File \u001b[1;32mc:\\Users\\ASUS\\anaconda3\\envs\\NewGPUTorch\\Lib\\site-packages\\ultralytics\\data\\build.py:135\u001b[0m, in \u001b[0;36mbuild_dataloader\u001b[1;34m(dataset, batch, workers, shuffle, rank)\u001b[0m\n\u001b[0;32m    133\u001b[0m generator \u001b[38;5;241m=\u001b[39m torch\u001b[38;5;241m.\u001b[39mGenerator()\n\u001b[0;32m    134\u001b[0m generator\u001b[38;5;241m.\u001b[39mmanual_seed(\u001b[38;5;241m6148914691236517205\u001b[39m \u001b[38;5;241m+\u001b[39m RANK)\n\u001b[1;32m--> 135\u001b[0m \u001b[38;5;28;01mreturn\u001b[39;00m \u001b[43mInfiniteDataLoader\u001b[49m\u001b[43m(\u001b[49m\n\u001b[0;32m    136\u001b[0m \u001b[43m    \u001b[49m\u001b[43mdataset\u001b[49m\u001b[38;5;241;43m=\u001b[39;49m\u001b[43mdataset\u001b[49m\u001b[43m,\u001b[49m\n\u001b[0;32m    137\u001b[0m \u001b[43m    \u001b[49m\u001b[43mbatch_size\u001b[49m\u001b[38;5;241;43m=\u001b[39;49m\u001b[43mbatch\u001b[49m\u001b[43m,\u001b[49m\n\u001b[0;32m    138\u001b[0m \u001b[43m    \u001b[49m\u001b[43mshuffle\u001b[49m\u001b[38;5;241;43m=\u001b[39;49m\u001b[43mshuffle\u001b[49m\u001b[43m \u001b[49m\u001b[38;5;129;43;01mand\u001b[39;49;00m\u001b[43m \u001b[49m\u001b[43msampler\u001b[49m\u001b[43m \u001b[49m\u001b[38;5;129;43;01mis\u001b[39;49;00m\u001b[43m \u001b[49m\u001b[38;5;28;43;01mNone\u001b[39;49;00m\u001b[43m,\u001b[49m\n\u001b[0;32m    139\u001b[0m \u001b[43m    \u001b[49m\u001b[43mnum_workers\u001b[49m\u001b[38;5;241;43m=\u001b[39;49m\u001b[43mnw\u001b[49m\u001b[43m,\u001b[49m\n\u001b[0;32m    140\u001b[0m \u001b[43m    \u001b[49m\u001b[43msampler\u001b[49m\u001b[38;5;241;43m=\u001b[39;49m\u001b[43msampler\u001b[49m\u001b[43m,\u001b[49m\n\u001b[0;32m    141\u001b[0m \u001b[43m    \u001b[49m\u001b[43mpin_memory\u001b[49m\u001b[38;5;241;43m=\u001b[39;49m\u001b[43mPIN_MEMORY\u001b[49m\u001b[43m,\u001b[49m\n\u001b[0;32m    142\u001b[0m \u001b[43m    \u001b[49m\u001b[43mcollate_fn\u001b[49m\u001b[38;5;241;43m=\u001b[39;49m\u001b[38;5;28;43mgetattr\u001b[39;49m\u001b[43m(\u001b[49m\u001b[43mdataset\u001b[49m\u001b[43m,\u001b[49m\u001b[43m \u001b[49m\u001b[38;5;124;43m\"\u001b[39;49m\u001b[38;5;124;43mcollate_fn\u001b[39;49m\u001b[38;5;124;43m\"\u001b[39;49m\u001b[43m,\u001b[49m\u001b[43m \u001b[49m\u001b[38;5;28;43;01mNone\u001b[39;49;00m\u001b[43m)\u001b[49m\u001b[43m,\u001b[49m\n\u001b[0;32m    143\u001b[0m \u001b[43m    \u001b[49m\u001b[43mworker_init_fn\u001b[49m\u001b[38;5;241;43m=\u001b[39;49m\u001b[43mseed_worker\u001b[49m\u001b[43m,\u001b[49m\n\u001b[0;32m    144\u001b[0m \u001b[43m    \u001b[49m\u001b[43mgenerator\u001b[49m\u001b[38;5;241;43m=\u001b[39;49m\u001b[43mgenerator\u001b[49m\u001b[43m,\u001b[49m\n\u001b[0;32m    145\u001b[0m \u001b[43m\u001b[49m\u001b[43m)\u001b[49m\n",
      "File \u001b[1;32mc:\\Users\\ASUS\\anaconda3\\envs\\NewGPUTorch\\Lib\\site-packages\\ultralytics\\data\\build.py:39\u001b[0m, in \u001b[0;36mInfiniteDataLoader.__init__\u001b[1;34m(self, *args, **kwargs)\u001b[0m\n\u001b[0;32m     37\u001b[0m \u001b[38;5;28msuper\u001b[39m()\u001b[38;5;241m.\u001b[39m\u001b[38;5;21m__init__\u001b[39m(\u001b[38;5;241m*\u001b[39margs, \u001b[38;5;241m*\u001b[39m\u001b[38;5;241m*\u001b[39mkwargs)\n\u001b[0;32m     38\u001b[0m \u001b[38;5;28mobject\u001b[39m\u001b[38;5;241m.\u001b[39m\u001b[38;5;21m__setattr__\u001b[39m(\u001b[38;5;28mself\u001b[39m, \u001b[38;5;124m\"\u001b[39m\u001b[38;5;124mbatch_sampler\u001b[39m\u001b[38;5;124m\"\u001b[39m, _RepeatSampler(\u001b[38;5;28mself\u001b[39m\u001b[38;5;241m.\u001b[39mbatch_sampler))\n\u001b[1;32m---> 39\u001b[0m \u001b[38;5;28mself\u001b[39m\u001b[38;5;241m.\u001b[39miterator \u001b[38;5;241m=\u001b[39m \u001b[38;5;28;43msuper\u001b[39;49m\u001b[43m(\u001b[49m\u001b[43m)\u001b[49m\u001b[38;5;241;43m.\u001b[39;49m\u001b[38;5;21;43m__iter__\u001b[39;49m\u001b[43m(\u001b[49m\u001b[43m)\u001b[49m\n",
      "File \u001b[1;32mc:\\Users\\ASUS\\anaconda3\\envs\\NewGPUTorch\\Lib\\site-packages\\torch\\utils\\data\\dataloader.py:484\u001b[0m, in \u001b[0;36mDataLoader.__iter__\u001b[1;34m(self)\u001b[0m\n\u001b[0;32m    482\u001b[0m     \u001b[38;5;28;01mreturn\u001b[39;00m \u001b[38;5;28mself\u001b[39m\u001b[38;5;241m.\u001b[39m_iterator\n\u001b[0;32m    483\u001b[0m \u001b[38;5;28;01melse\u001b[39;00m:\n\u001b[1;32m--> 484\u001b[0m     \u001b[38;5;28;01mreturn\u001b[39;00m \u001b[38;5;28;43mself\u001b[39;49m\u001b[38;5;241;43m.\u001b[39;49m\u001b[43m_get_iterator\u001b[49m\u001b[43m(\u001b[49m\u001b[43m)\u001b[49m\n",
      "File \u001b[1;32mc:\\Users\\ASUS\\anaconda3\\envs\\NewGPUTorch\\Lib\\site-packages\\torch\\utils\\data\\dataloader.py:415\u001b[0m, in \u001b[0;36mDataLoader._get_iterator\u001b[1;34m(self)\u001b[0m\n\u001b[0;32m    413\u001b[0m \u001b[38;5;28;01melse\u001b[39;00m:\n\u001b[0;32m    414\u001b[0m     \u001b[38;5;28mself\u001b[39m\u001b[38;5;241m.\u001b[39mcheck_worker_number_rationality()\n\u001b[1;32m--> 415\u001b[0m     \u001b[38;5;28;01mreturn\u001b[39;00m \u001b[43m_MultiProcessingDataLoaderIter\u001b[49m\u001b[43m(\u001b[49m\u001b[38;5;28;43mself\u001b[39;49m\u001b[43m)\u001b[49m\n",
      "File \u001b[1;32mc:\\Users\\ASUS\\anaconda3\\envs\\NewGPUTorch\\Lib\\site-packages\\torch\\utils\\data\\dataloader.py:1138\u001b[0m, in \u001b[0;36m_MultiProcessingDataLoaderIter.__init__\u001b[1;34m(self, loader)\u001b[0m\n\u001b[0;32m   1131\u001b[0m w\u001b[38;5;241m.\u001b[39mdaemon \u001b[38;5;241m=\u001b[39m \u001b[38;5;28;01mTrue\u001b[39;00m\n\u001b[0;32m   1132\u001b[0m \u001b[38;5;66;03m# NB: Process.start() actually take some time as it needs to\u001b[39;00m\n\u001b[0;32m   1133\u001b[0m \u001b[38;5;66;03m#     start a process and pass the arguments over via a pipe.\u001b[39;00m\n\u001b[0;32m   1134\u001b[0m \u001b[38;5;66;03m#     Therefore, we only add a worker to self._workers list after\u001b[39;00m\n\u001b[0;32m   1135\u001b[0m \u001b[38;5;66;03m#     it started, so that we do not call .join() if program dies\u001b[39;00m\n\u001b[0;32m   1136\u001b[0m \u001b[38;5;66;03m#     before it starts, and __del__ tries to join but will get:\u001b[39;00m\n\u001b[0;32m   1137\u001b[0m \u001b[38;5;66;03m#     AssertionError: can only join a started process.\u001b[39;00m\n\u001b[1;32m-> 1138\u001b[0m \u001b[43mw\u001b[49m\u001b[38;5;241;43m.\u001b[39;49m\u001b[43mstart\u001b[49m\u001b[43m(\u001b[49m\u001b[43m)\u001b[49m\n\u001b[0;32m   1139\u001b[0m \u001b[38;5;28mself\u001b[39m\u001b[38;5;241m.\u001b[39m_index_queues\u001b[38;5;241m.\u001b[39mappend(index_queue)\n\u001b[0;32m   1140\u001b[0m \u001b[38;5;28mself\u001b[39m\u001b[38;5;241m.\u001b[39m_workers\u001b[38;5;241m.\u001b[39mappend(w)\n",
      "File \u001b[1;32mc:\\Users\\ASUS\\anaconda3\\envs\\NewGPUTorch\\Lib\\multiprocessing\\process.py:121\u001b[0m, in \u001b[0;36mBaseProcess.start\u001b[1;34m(self)\u001b[0m\n\u001b[0;32m    118\u001b[0m \u001b[38;5;28;01massert\u001b[39;00m \u001b[38;5;129;01mnot\u001b[39;00m _current_process\u001b[38;5;241m.\u001b[39m_config\u001b[38;5;241m.\u001b[39mget(\u001b[38;5;124m'\u001b[39m\u001b[38;5;124mdaemon\u001b[39m\u001b[38;5;124m'\u001b[39m), \\\n\u001b[0;32m    119\u001b[0m        \u001b[38;5;124m'\u001b[39m\u001b[38;5;124mdaemonic processes are not allowed to have children\u001b[39m\u001b[38;5;124m'\u001b[39m\n\u001b[0;32m    120\u001b[0m _cleanup()\n\u001b[1;32m--> 121\u001b[0m \u001b[38;5;28mself\u001b[39m\u001b[38;5;241m.\u001b[39m_popen \u001b[38;5;241m=\u001b[39m \u001b[38;5;28;43mself\u001b[39;49m\u001b[38;5;241;43m.\u001b[39;49m\u001b[43m_Popen\u001b[49m\u001b[43m(\u001b[49m\u001b[38;5;28;43mself\u001b[39;49m\u001b[43m)\u001b[49m\n\u001b[0;32m    122\u001b[0m \u001b[38;5;28mself\u001b[39m\u001b[38;5;241m.\u001b[39m_sentinel \u001b[38;5;241m=\u001b[39m \u001b[38;5;28mself\u001b[39m\u001b[38;5;241m.\u001b[39m_popen\u001b[38;5;241m.\u001b[39msentinel\n\u001b[0;32m    123\u001b[0m \u001b[38;5;66;03m# Avoid a refcycle if the target function holds an indirect\u001b[39;00m\n\u001b[0;32m    124\u001b[0m \u001b[38;5;66;03m# reference to the process object (see bpo-30775)\u001b[39;00m\n",
      "File \u001b[1;32mc:\\Users\\ASUS\\anaconda3\\envs\\NewGPUTorch\\Lib\\multiprocessing\\context.py:224\u001b[0m, in \u001b[0;36mProcess._Popen\u001b[1;34m(process_obj)\u001b[0m\n\u001b[0;32m    222\u001b[0m \u001b[38;5;129m@staticmethod\u001b[39m\n\u001b[0;32m    223\u001b[0m \u001b[38;5;28;01mdef\u001b[39;00m \u001b[38;5;21m_Popen\u001b[39m(process_obj):\n\u001b[1;32m--> 224\u001b[0m     \u001b[38;5;28;01mreturn\u001b[39;00m \u001b[43m_default_context\u001b[49m\u001b[38;5;241;43m.\u001b[39;49m\u001b[43mget_context\u001b[49m\u001b[43m(\u001b[49m\u001b[43m)\u001b[49m\u001b[38;5;241;43m.\u001b[39;49m\u001b[43mProcess\u001b[49m\u001b[38;5;241;43m.\u001b[39;49m\u001b[43m_Popen\u001b[49m\u001b[43m(\u001b[49m\u001b[43mprocess_obj\u001b[49m\u001b[43m)\u001b[49m\n",
      "File \u001b[1;32mc:\\Users\\ASUS\\anaconda3\\envs\\NewGPUTorch\\Lib\\multiprocessing\\context.py:336\u001b[0m, in \u001b[0;36mSpawnProcess._Popen\u001b[1;34m(process_obj)\u001b[0m\n\u001b[0;32m    333\u001b[0m \u001b[38;5;129m@staticmethod\u001b[39m\n\u001b[0;32m    334\u001b[0m \u001b[38;5;28;01mdef\u001b[39;00m \u001b[38;5;21m_Popen\u001b[39m(process_obj):\n\u001b[0;32m    335\u001b[0m     \u001b[38;5;28;01mfrom\u001b[39;00m \u001b[38;5;21;01m.\u001b[39;00m\u001b[38;5;21;01mpopen_spawn_win32\u001b[39;00m \u001b[38;5;28;01mimport\u001b[39;00m Popen\n\u001b[1;32m--> 336\u001b[0m     \u001b[38;5;28;01mreturn\u001b[39;00m \u001b[43mPopen\u001b[49m\u001b[43m(\u001b[49m\u001b[43mprocess_obj\u001b[49m\u001b[43m)\u001b[49m\n",
      "File \u001b[1;32mc:\\Users\\ASUS\\anaconda3\\envs\\NewGPUTorch\\Lib\\multiprocessing\\popen_spawn_win32.py:95\u001b[0m, in \u001b[0;36mPopen.__init__\u001b[1;34m(self, process_obj)\u001b[0m\n\u001b[0;32m     93\u001b[0m \u001b[38;5;28;01mtry\u001b[39;00m:\n\u001b[0;32m     94\u001b[0m     reduction\u001b[38;5;241m.\u001b[39mdump(prep_data, to_child)\n\u001b[1;32m---> 95\u001b[0m     \u001b[43mreduction\u001b[49m\u001b[38;5;241;43m.\u001b[39;49m\u001b[43mdump\u001b[49m\u001b[43m(\u001b[49m\u001b[43mprocess_obj\u001b[49m\u001b[43m,\u001b[49m\u001b[43m \u001b[49m\u001b[43mto_child\u001b[49m\u001b[43m)\u001b[49m\n\u001b[0;32m     96\u001b[0m \u001b[38;5;28;01mfinally\u001b[39;00m:\n\u001b[0;32m     97\u001b[0m     set_spawning_popen(\u001b[38;5;28;01mNone\u001b[39;00m)\n",
      "File \u001b[1;32mc:\\Users\\ASUS\\anaconda3\\envs\\NewGPUTorch\\Lib\\multiprocessing\\reduction.py:60\u001b[0m, in \u001b[0;36mdump\u001b[1;34m(obj, file, protocol)\u001b[0m\n\u001b[0;32m     58\u001b[0m \u001b[38;5;28;01mdef\u001b[39;00m \u001b[38;5;21mdump\u001b[39m(obj, file, protocol\u001b[38;5;241m=\u001b[39m\u001b[38;5;28;01mNone\u001b[39;00m):\n\u001b[0;32m     59\u001b[0m \u001b[38;5;250m    \u001b[39m\u001b[38;5;124;03m'''Replacement for pickle.dump() using ForkingPickler.'''\u001b[39;00m\n\u001b[1;32m---> 60\u001b[0m     \u001b[43mForkingPickler\u001b[49m\u001b[43m(\u001b[49m\u001b[43mfile\u001b[49m\u001b[43m,\u001b[49m\u001b[43m \u001b[49m\u001b[43mprotocol\u001b[49m\u001b[43m)\u001b[49m\u001b[38;5;241;43m.\u001b[39;49m\u001b[43mdump\u001b[49m\u001b[43m(\u001b[49m\u001b[43mobj\u001b[49m\u001b[43m)\u001b[49m\n",
      "\u001b[1;31mMemoryError\u001b[0m: "
     ]
    }
   ],
   "source": [
    "\n",
    "# Train the model and save checkpoints\n",
    "results = model.train(\n",
    "    data=dataset_yaml_path,  # Path to dataset YAML file\n",
    "    epochs=10,                # Number of epochs\n",
    "    imgsz=640,               # Input image size (640x640)\n",
    "    batch=BATCH_SIZE,        # Batch size\n",
    "    device=0,                # GPU device index\n",
    "    name=\"yolo_esca_run\",    # Experiment name\n",
    "    project=\"yolo_esca_results\",  # Directory to save results\n",
    "    resume=os.path.exists(CHECKPOINT_PATH),  # Resume if checkpoint exists\n",
    "    save_period=1,           # Save checkpoint after every epoch\n",
    "    save=True                # Save best model checkpoint\n",
    ")\n",
    "\n",
    "# --------------------------- Evaluation ---------------------------\n",
    "# Validate the model after training\n",
    "metrics = model.val()\n",
    "print(f\"Validation Results: {metrics}\")\n"
   ]
  },
  {
   "cell_type": "code",
   "execution_count": null,
   "metadata": {},
   "outputs": [],
   "source": []
  }
 ],
 "metadata": {
  "kernelspec": {
   "display_name": "NewGPUTorch",
   "language": "python",
   "name": "python3"
  },
  "language_info": {
   "codemirror_mode": {
    "name": "ipython",
    "version": 3
   },
   "file_extension": ".py",
   "mimetype": "text/x-python",
   "name": "python",
   "nbconvert_exporter": "python",
   "pygments_lexer": "ipython3",
   "version": "3.11.10"
  }
 },
 "nbformat": 4,
 "nbformat_minor": 2
}
